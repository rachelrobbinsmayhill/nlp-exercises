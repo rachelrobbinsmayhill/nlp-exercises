{
 "cells": [
  {
   "cell_type": "markdown",
   "id": "47af8fc8-7abc-45f3-88cc-4b193ce352df",
   "metadata": {},
   "source": [
    "# ACQUIRE DATA THROUGH WEBSCRAPING"
   ]
  },
  {
   "cell_type": "code",
   "execution_count": 1,
   "id": "e058c0e7-cdd9-44aa-91cb-069054815e58",
   "metadata": {},
   "outputs": [],
   "source": [
    "from requests import get\n",
    "from bs4 import BeautifulSoup\n",
    "import os\n",
    "import pandas as pd"
   ]
  },
  {
   "cell_type": "markdown",
   "id": "bd4d7bf3-9c32-435f-afbe-8cfdcb7fb677",
   "metadata": {},
   "source": [
    "# 1. Codeup Blog Articles\n",
    "Visit Codeup's Blog and record the urls for at least 5 distinct blog posts. For each post, you should scrape at least the post's title and content.\n",
    "\n",
    "- Encapsulate your work in a function named get_blog_articles that will:\n",
    "    - return a list of dictionaries, \n",
    "    - with each dictionary representing one article. \n",
    "The shape of each dictionary should look like this:"
   ]
  },
  {
   "cell_type": "markdown",
   "id": "b5da2a1c-65c6-4d06-be15-fc296cbf6a54",
   "metadata": {},
   "source": [
    "Plus any additional properties you think might be helpful.\n",
    "\n",
    "Bonus: Scrape the text of all the articles linked on codeup's blog page."
   ]
  },
  {
   "cell_type": "code",
   "execution_count": 2,
   "id": "7b71339a-82ff-4e18-bcb1-e0714ce6a9e6",
   "metadata": {},
   "outputs": [
    {
     "data": {
      "text/plain": [
       "{'title': 'the title of the article',\n",
       " 'content': 'the full text content of the article'}"
      ]
     },
     "execution_count": 2,
     "metadata": {},
     "output_type": "execute_result"
    }
   ],
   "source": [
    "{\n",
    "    'title': 'the title of the article',\n",
    "    'content': 'the full text content of the article'\n",
    "}"
   ]
  },
  {
   "cell_type": "code",
   "execution_count": 3,
   "id": "5c660d2c-b6c7-4abf-80bd-f6cc0e8c4c6c",
   "metadata": {},
   "outputs": [],
   "source": [
    "def get_blog_articles():\n",
    "    # if we already have the data, read it locally\n",
    "    if path.exists('article.txt'):\n",
    "        with open('article.txt') as f:\n",
    "            return f.read()\n",
    "        \n",
    "    # otherwise go fetch the data\n",
    "    url = 'https://codeup.com/data-science/math-in-data-science/'\n",
    "    headers = {'User-Agent': 'Codeup Data Science'}\n",
    "    response = get(url, headers=headers)\n",
    "    soup = BeautifulSoup(response.text)\n",
    "    article = soup.find('div', id='main-content')\n",
    "\n",
    "    # save it for next time\n",
    "    with open('article.txt', 'w') as f:\n",
    "        f.write(article.text)\n",
    "\n",
    "    return article.text"
   ]
  },
  {
   "cell_type": "markdown",
   "id": "2c40bd8e-0dea-42e7-97fc-6ac1538bcb8e",
   "metadata": {},
   "source": [
    "---"
   ]
  },
  {
   "cell_type": "markdown",
   "id": "93abc759-21b9-4f88-8359-f60a2ea4d356",
   "metadata": {},
   "source": [
    "## STEP-BY-STEP WALKTHROUGH "
   ]
  },
  {
   "cell_type": "markdown",
   "id": "b18773e4-b0ba-4164-90ef-a942d544cb48",
   "metadata": {},
   "source": [
    "#### STEPS\n",
    "- STEP 1: Import the get() function from the requests module, BeautifulSoup from bs4, and pandas.\n",
    "- STEP 2: Assign the address of the web page to a variable named url.\n",
    "- STEP 3: Request the server the content of the web page by using get(), and store the server’s response in the variable response."
   ]
  },
  {
   "cell_type": "code",
   "execution_count": 4,
   "id": "66506b0e-0232-464f-b4ca-4698bd2d4c96",
   "metadata": {},
   "outputs": [],
   "source": [
    "url1 = 'https://codeup.com/codeup-news/codeup-start-dates-for-march-2022/'\n",
    "headers = {'User-Agent': 'Innis Data Science cohort'} # Some websites don't accept the pyhon-requests default user-agent  headers = {'user-agent': 'Innis Data Science Cohort'}\n",
    "response = get(url1, headers=headers)"
   ]
  },
  {
   "cell_type": "markdown",
   "id": "97231475-8f55-489c-89f8-2387ba9cefcf",
   "metadata": {},
   "source": [
    "---"
   ]
  },
  {
   "cell_type": "markdown",
   "id": "3a21044b-e6f7-4539-bdf3-f923ba77950a",
   "metadata": {},
   "source": [
    "- STEP 4: Print the response text to ensure you have an html page.\n",
    "- STEP 5: Take a look at the actual web page contents and inspect the source to understand the structure a bit."
   ]
  },
  {
   "cell_type": "code",
   "execution_count": 32,
   "id": "5057c721-bdc2-4c3d-8719-8a5983b1e91d",
   "metadata": {},
   "outputs": [
    {
     "name": "stdout",
     "output_type": "stream",
     "text": [
      "<!DOCTYPE html>\n",
      "<html lang=\"en-US\">\n",
      "<head>\n",
      "\t<meta charset=\"UTF-8\" />\n",
      "<meta http-equiv=\"X-UA-Compatible\" content=\"IE=edge\">\n",
      "\t<link rel=\"pingback\" href=\"https://codeup.com/xmlrpc.php\" />\n",
      "\n",
      "\t<script type=\"text/javascript\">\n",
      "\t\tdocument.documentElement.className = 'js';\n",
      "\t</script>\n",
      "\t\n",
      "\t<link rel=\"preconnect\" href=\"https://fonts.gstatic.com\" crossorigin /><script id=\"diviarea-loader\">window.DiviPopupData=wi\n"
     ]
    }
   ],
   "source": [
    "print(response.text[:400])"
   ]
  },
  {
   "cell_type": "markdown",
   "id": "5d780174-57e2-489e-a2b3-1d5c246d4941",
   "metadata": {},
   "source": [
    "---"
   ]
  },
  {
   "cell_type": "markdown",
   "id": "66be9a51-2076-4a1e-93a3-480fc33c3a23",
   "metadata": {},
   "source": [
    "- STEP 6: Use BeautifulSoup to parse the HTML into a variable ('soup')."
   ]
  },
  {
   "cell_type": "code",
   "execution_count": 6,
   "id": "a8af3312-9550-457c-b5b8-104cf335d37b",
   "metadata": {},
   "outputs": [],
   "source": [
    "# Make a soup variable holding the response content\n",
    "soup = BeautifulSoup(response.text, 'html.parser')"
   ]
  },
  {
   "cell_type": "code",
   "execution_count": 33,
   "id": "ab9f7825-cdf4-4c79-a5b1-60f935098dbf",
   "metadata": {},
   "outputs": [
    {
     "name": "stdout",
     "output_type": "stream",
     "text": [
      "<!DOCTYPE html>\n",
      "<html lang=\"en-US\">\n",
      " <head>\n",
      "  <meta charset=\"utf-8\"/>\n",
      "  <meta content=\"IE=edge\" http-equiv=\"X-UA-Compatible\"/>\n",
      "  <link href=\"https://codeup.com/xmlrpc.php\" rel=\"pingback\"/>\n",
      "  <script type=\"text/javascript\">\n",
      "   document.documentElement.className = 'js';\n",
      "  </script>\n",
      "  <link crossorigin=\"\" href=\"https://fonts.gstatic.com\" rel=\"preconnect\"/>\n",
      "  <script id=\"diviarea-loader\">\n",
      "   window.Di\n"
     ]
    }
   ],
   "source": [
    "print(soup.prettify()[:400])"
   ]
  },
  {
   "cell_type": "markdown",
   "id": "950b7308-1486-4b36-8610-5c19f40cb47c",
   "metadata": {},
   "source": [
    "---"
   ]
  },
  {
   "cell_type": "markdown",
   "id": "948a248d-3f43-45a6-96e6-1ba9b4be21ea",
   "metadata": {},
   "source": [
    "- STEP 7: \n",
    "Identify the key tags you need to extract the data you are looking for."
   ]
  },
  {
   "cell_type": "code",
   "execution_count": 8,
   "id": "40c33d6a-ff9a-4926-bc48-d56345a949ea",
   "metadata": {},
   "outputs": [
    {
     "data": {
      "text/plain": [
       "'Codeup Start Dates for March 2022'"
      ]
     },
     "execution_count": 8,
     "metadata": {},
     "output_type": "execute_result"
    }
   ],
   "source": [
    "title = soup.select_one('h1.entry-title').text\n",
    "title"
   ]
  },
  {
   "cell_type": "code",
   "execution_count": 34,
   "id": "62de804a-204d-414b-a01b-5e1ff83d79d4",
   "metadata": {},
   "outputs": [
    {
     "data": {
      "text/plain": [
       "'\\n\\n\\n\\n\\n\\nAWS, Google, Azure, Red Hat, CompTIA…these are big names in IT! And not only for their products, but also for the certifications they offer. If you’re new to tech, you might be wondering: Do certifications really matter? Welcome to IT Certifications 101! What’s the tl;dr? Certifications are critical to getting past HR for certain roles, but they won’t get you the job.\\nWhat are IT Certifications?\\nCertifications are official credentials given by companies, institutions, and vendors to verify that you have demonstrated a specific knowledge or skill. They are a stamp of approval from a known brand (like Amazon) saying “This person knows their stuff.” Certs are used in a lot of industries, including technology. Even within tech, there are dozens of vendors and hundreds of certs.\\nWhy do IT Certifications matter to employers?\\nMany roles (including security, system administration, and networking) require certain certs to make it in the door of an interview process. This filter matters for several reasons: it helps narrow down the pool of applicants, it establishes a baseline of shared knowledge or experience across all applicants, and it expedites the process so that employers don’t have to spend as much time vetting basic technical skills.\\n\\n\\n\\n\\n\\nWhy do they matter to you?\\nObtaining certs in IT will provide you with a number of benefits:\\n\\nYou will show up in recruiter searches on LinkedIn!\\nYou can follow specific, concrete paths for your career development\\nYou obtain industry-recognized, respected, and transferable credentials relevant for your whole career\\nYou develop relevant and broad-base content knowledge\\nYou will be able to pass initial HR screenings and land a seat in the interview\\n\\nWhy DON’T they matter to employers and you?\\nAt the end of the day, certifications are just pieces of paper. They represent your ability to pass a test, not to do a job. Sometimes those things are one and the same, but usually, they are very different. Certifications are like the entrance fee to get into a tournament: you still need to fight your way to the top. And when you’re standing in the ring, it’s better to know how to fight than to have a degree in fighting.\\nAdditionally, not all jobs within tech care about certifications at all. For example, there is technically a Java programming certification from Oracle, but it’s almost never required or considered for job applications because it tests very specific, abnormal, and academic concepts that don’t apply to most real-world software development.\\nIf Certs matter AND don’t matter, what do I do?\\nAt Codeup, we like to think of our IT training as CertificationsPLUS, as in – you get certifications PLUS hands-on experience. Here’s a quick way to think about it: Amazon Web Services has basic certifications called Cloud Practitioner and Solutions Architect Associate. The official Amazon training for these certs is 1 week: 4 days of training and 1 day of exam readiness. The 1-week schedule will present to you mostly everything you need to pass the certification exam, and then it’s on you to go cram and memorize to get ready. Once you pass, you’ll have the cert, but you’ll be a paper tiger: all bark and no bite. In other words, you’ll appear knowledgeable and skillful on paper, but in reality, you won’t have any experience or know-how for completing the real work.\\nAlternatively, Codeup spends 5 weeks on AWS, combining exam study and hands-on practice. That way, you can talk the talk and walk the walk.\\nIf you want to learn more about IT certification and training paths, reach out to us at info@codeup.com!\\n\\n\\n\\n \\n\\n'"
      ]
     },
     "execution_count": 34,
     "metadata": {},
     "output_type": "execute_result"
    }
   ],
   "source": [
    "content = soup.select_one('div.entry-content').text\n",
    "content"
   ]
  },
  {
   "cell_type": "markdown",
   "id": "a5b5b786-851b-4d6a-9229-ee398e25cb53",
   "metadata": {},
   "source": [
    "---"
   ]
  },
  {
   "cell_type": "markdown",
   "id": "1d037ccc-0603-443b-a27c-d3891f275532",
   "metadata": {},
   "source": [
    "- STEP 8: \n",
    "Create a dictionary or dataframe of the data desired."
   ]
  },
  {
   "cell_type": "code",
   "execution_count": 24,
   "id": "447f2a88-46a8-4a47-875e-a3aa007648c3",
   "metadata": {},
   "outputs": [],
   "source": [
    "def get_one_blog_article(url):\n",
    "    headers = {'User-Agent': 'Innis Data Science cohort'} # Some websites don't accept the pyhon-requests default user-agent  headers = {'user-agent': 'Innis Data Science Cohort'}\n",
    "    response = get(url, headers=headers)\n",
    "\n",
    "    # Make a soup variable holding the response content\n",
    "    soup = BeautifulSoup(response.text, 'html.parser')\n",
    "    \n",
    "    output = {}\n",
    "    output['title'] = soup.select_one('h1.entry-title').text\n",
    "    output['contents'] = soup.select_one('div.entry-content').text\n",
    "    \n",
    "    return output    "
   ]
  },
  {
   "cell_type": "code",
   "execution_count": 25,
   "id": "8c5d417c-1c85-4d74-8a42-54ba6ff89a69",
   "metadata": {},
   "outputs": [
    {
     "data": {
      "text/plain": [
       "{'title': 'IT Certifications 101: Why They Matter, and Why They Don’t',\n",
       " 'contents': '\\n\\n\\n\\n\\n\\nAWS, Google, Azure, Red Hat, CompTIA…these are big names in IT! And not only for their products, but also for the certifications they offer. If you’re new to tech, you might be wondering: Do certifications really matter? Welcome to IT Certifications 101! What’s the tl;dr? Certifications are critical to getting past HR for certain roles, but they won’t get you the job.\\nWhat are IT Certifications?\\nCertifications are official credentials given by companies, institutions, and vendors to verify that you have demonstrated a specific knowledge or skill. They are a stamp of approval from a known brand (like Amazon) saying “This person knows their stuff.” Certs are used in a lot of industries, including technology. Even within tech, there are dozens of vendors and hundreds of certs.\\nWhy do IT Certifications matter to employers?\\nMany roles (including security, system administration, and networking) require certain certs to make it in the door of an interview process. This filter matters for several reasons: it helps narrow down the pool of applicants, it establishes a baseline of shared knowledge or experience across all applicants, and it expedites the process so that employers don’t have to spend as much time vetting basic technical skills.\\n\\n\\n\\n\\n\\nWhy do they matter to you?\\nObtaining certs in IT will provide you with a number of benefits:\\n\\nYou will show up in recruiter searches on LinkedIn!\\nYou can follow specific, concrete paths for your career development\\nYou obtain industry-recognized, respected, and transferable credentials relevant for your whole career\\nYou develop relevant and broad-base content knowledge\\nYou will be able to pass initial HR screenings and land a seat in the interview\\n\\nWhy DON’T they matter to employers and you?\\nAt the end of the day, certifications are just pieces of paper. They represent your ability to pass a test, not to do a job. Sometimes those things are one and the same, but usually, they are very different. Certifications are like the entrance fee to get into a tournament: you still need to fight your way to the top. And when you’re standing in the ring, it’s better to know how to fight than to have a degree in fighting.\\nAdditionally, not all jobs within tech care about certifications at all. For example, there is technically a Java programming certification from Oracle, but it’s almost never required or considered for job applications because it tests very specific, abnormal, and academic concepts that don’t apply to most real-world software development.\\nIf Certs matter AND don’t matter, what do I do?\\nAt Codeup, we like to think of our IT training as CertificationsPLUS, as in – you get certifications PLUS hands-on experience. Here’s a quick way to think about it: Amazon Web Services has basic certifications called Cloud Practitioner and Solutions Architect Associate. The official Amazon training for these certs is 1 week: 4 days of training and 1 day of exam readiness. The 1-week schedule will present to you mostly everything you need to pass the certification exam, and then it’s on you to go cram and memorize to get ready. Once you pass, you’ll have the cert, but you’ll be a paper tiger: all bark and no bite. In other words, you’ll appear knowledgeable and skillful on paper, but in reality, you won’t have any experience or know-how for completing the real work.\\nAlternatively, Codeup spends 5 weeks on AWS, combining exam study and hands-on practice. That way, you can talk the talk and walk the walk.\\nIf you want to learn more about IT certification and training paths, reach out to us at info@codeup.com!\\n\\n\\n\\n \\n\\n'}"
      ]
     },
     "execution_count": 25,
     "metadata": {},
     "output_type": "execute_result"
    }
   ],
   "source": [
    "get_one_blog_article('https://codeup.com/it-training/it-certifications-101/')"
   ]
  },
  {
   "cell_type": "markdown",
   "id": "7b11c073-a970-413d-bc19-ab9aab390d2d",
   "metadata": {},
   "source": [
    "#### URL 2"
   ]
  },
  {
   "cell_type": "code",
   "execution_count": 26,
   "id": "1dc825e6-88f4-48a4-a818-665a3df14a6c",
   "metadata": {},
   "outputs": [
    {
     "data": {
      "text/plain": [
       "{'title': '5 Books Every Woman In Tech Should Read',\n",
       " 'contents': '\\nOn this International Women’s Day 2022 we wanted to tell stories about women in tech. What better way to do that than celebrate female authors! These women have written phenomenal books in the tech space to tell their stories. These are women who have walked the walk in the tech world and/or offered unique perspectives to not just women in tech, but women in the workplace. This list goes in no particular order as we believe you should add all of these to your kindle or book library asap. You can click on each book image to take you to a purchase page on Amazon.\\nLet’s dive into the list below:\\nReset: My Fight for Inclusion and Lasting Change by Ellen Pao\\nFrom the book’s description on Amazon:\\n“In 2015, Ellen K. Pao sued a powerhouse Silicon Valley venture capital firm, calling out workplace discrimination and retaliation against women and other underrepresented groups. Her suit rocked the tech world—and exposed its toxic culture and its homogeneity. Her message overcame negative PR attacks that took aim at her professional conduct and her personal life, and she won widespread public support—Time hailed her as “the face of change.” Though Pao lost her suit, she revolutionized the conversation at tech offices, in the media, and around the world. In Reset, she tells her full story for the first time.”\\n\\n\\xa0\\nFemale Innovators at Work: Women on Top of Tech by Danielle Newnham\\xa0\\nFrom the book’s description on Amazon:\\n“This book describes the experiences and successes of female innovators and entrepreneurs in the still largely male-dominated tech world in twenty candid interviews. It highlights the varied life and career stories that lead these women to the top positions in the technology industry that they are in now.\\nInterviewees include CEOs, founders, and inventors from a wide spectrum of tech organizations across sectors as varied as mobile technology, e-commerce, online education, and video games. Interviewer Danielle Newnham, a mobile startup and e-commerce entrepreneur herself as well as an online community organizer, presents the insights, instructive anecdotes, and advice shared with her in the interviews, including stories about raising capital for one’s start-up, and about the obstacles these women encountered and how they overcame them.”\\n\\n\\xa0\\nTechnically Wrong: Sexist Apps, Biased Algorithms, and Other Threats of Toxic Tech by Sara Wachter-Boettcher\\nFrom the book’s description on Amazon:\\n“Buying groceries, tracking our health, finding a date: whatever we want to do, odds are that we can now do it online. But few of us ask how all these digital products are designed, or why. It’s time we change that. Many of the services we rely on are full of oversights, biases, and downright ethical nightmares. Chatbots that harass women. Signup forms that fail anyone who’s not straight. Social media sites that send peppy messages about dead relatives. Algorithms that put more black people behind bars.\\xa0\\nTechnically Wrong takes an unflinching look at the values, processes, and assumptions that lead to these problems and more. Wachter-Boettcher demystifies the tech industry, leaving those of us on the other side of the screen better prepared to make informed choices about the services we use – and demand more from the companies behind them.”\\n\\n\\xa0\\nBrotopia: Breaking Up the Boys’ Club of Silicon Valley by Emily Chang\\nFrom the book’s description on Amazon:\\n“Silicon Valley is not a fantasyland of unicorns, virtual reality rainbows, and 3D-printed lollipops for women in tech. Instead, it’s a “Brotopia,” where men hold the cards and make the rules. While millions of dollars may seem to grow on trees in this land of innovation, tech’s aggressive, misogynistic, work-at-all costs culture has shut women out of the greatest wealth creation in the history of the world.\\nBrotopia reveals how Silicon Valley got so sexist despite its utopian ideals, why bro culture endures even as its companies claim the moral high ground, and how women are speaking out and fighting back. Drawing on her deep network of Silicon Valley insiders, Chang opens the boardroom doors of male-dominated venture capital firms like Kleiner Perkins, the subject of Ellen Pao’s high-profile gender discrimination lawsuit, and Sequoia, where a partner once famously said they “won’t lower their standards” just to hire women. Exposing the flawed logic in common excuses for why tech has long suffered the “pipeline” problem and invests in the delusion of meritocracy, Brotopia also shows how bias coded into AI, internet troll culture, and the reliance on pattern recognition harms not just women in tech but us all, and at an unprecedented scale.”\\n\\n\\xa0\\nLife in Code: A Personal History of Technology by Ellen Ullman\\nFrom the book’s description on Amazon:\\n“The last twenty years have brought us the rise of the internet, the development of artificial intelligence, the ubiquity of once unimaginably powerful computers, and the thorough transformation of our economy and society. Through it all, Ellen Ullman lived and worked inside that rising culture of technology, and in Life in Code she tells the continuing story of the changes it wrought with a unique, expert perspective.\\nWhen Ellen Ullman moved to San Francisco in the early 1970s and went on to become a computer programmer, she was joining a small, idealistic, and almost exclusively male cadre that aspired to genuinely change the world. In 1997 Ullman wrote Close to the Machine, the now classic and still definitive account of life as a coder at the birth of what would be a sweeping technological, cultural, and financial revolution.\\nTwenty years later, the story Ullman recounts is neither one of unbridled triumph nor a nostalgic denial of progress. It is necessarily the story of digital technology’s loss of innocence as it entered the cultural mainstream, and it is a personal reckoning with all that has changed, and so much that hasn’t. Life in Code is an essential text toward our understanding of the last twenty years–and the next twenty.”\\n\\n\\xa0\\nLet us know your thoughts on this list on social media! What books or authors should we add to this list for a future post?\\nAre you a woman who is interested in launching your career in tech? Help us close the gender gap in tech and apply for our Women in Tech scholarship! You can learn more by clicking here.\\xa0\\nWe have a Data Science program that starts on 3/21 and a Web Development program that starts on 4/1. Let us know if you have questions by submitting your application or reaching out to us at admissions@codeup.com!\\n'}"
      ]
     },
     "execution_count": 26,
     "metadata": {},
     "output_type": "execute_result"
    }
   ],
   "source": [
    "get_one_blog_article('https://codeup.com/featured/5-books-every-woman-in-tech-should-read/')"
   ]
  },
  {
   "cell_type": "markdown",
   "id": "f31646f8-5a05-4077-9838-210474812908",
   "metadata": {},
   "source": [
    "#### URL 3"
   ]
  },
  {
   "cell_type": "code",
   "execution_count": 27,
   "id": "02d2101e-1693-483a-982a-521e4d93c68d",
   "metadata": {},
   "outputs": [
    {
     "data": {
      "text/plain": [
       "{'title': 'Dallas Campus Re-opens With New Grant Partner',\n",
       " 'contents': '\\n\\n\\n\\n\\n\\nWe are happy to announce that our Dallas campus re-opened!\\xa0Better yet, we have a new grant partner that can fund up to $15,000 in tuition for eligible students. Are you a DFW resident who:\\n\\nIs unemployed or under-employed\\nwork has been affected by COVID-19\\na military veteran\\nunder the age of 25\\n\\nIf so, follow the steps below to seek up to $15,000 in tuition funding!\\n\\nRegister for an account at www.workintexas.com – click “Sign in” and then select Option 3: Create a User Account\\nFind the nearest Workforce Center to your residence using this tool\\nAttend a WIOA information session – these sessions occur at different times at different locations. Contact your local center for more information after registering at Work in Texas\\nSelect Codeup as the program for training, and notify tuition@codeup.com of your progress\\n\\nOur next Web Development class starts January 31st, 2022, and will be the first class in-person in two years! Hands-on experience and learning side-by-side with your fellow classmates is an experience hard to duplicate virtually. COVID-19 protocols are in place to keep all students and staff safe while attending the campus in person. Are you ready to start a new career in the New Year!? Seats are limited, so apply now here or email admissions@codeup.com for more info!\\n\\n\\n\\n \\n\\n'}"
      ]
     },
     "execution_count": 27,
     "metadata": {},
     "output_type": "execute_result"
    }
   ],
   "source": [
    "get_one_blog_article('https://codeup.com/codeup-news/dallas-campus-re-opens-with-new-grant-partner/')"
   ]
  },
  {
   "cell_type": "markdown",
   "id": "ee5ed619-1766-4b6e-8e92-347c5327803c",
   "metadata": {},
   "source": [
    "#### URL 4"
   ]
  },
  {
   "cell_type": "code",
   "execution_count": 28,
   "id": "69fc8225-d46c-47a4-a6d0-6d99a174f0c3",
   "metadata": {},
   "outputs": [
    {
     "data": {
      "text/plain": [
       "{'title': 'Codeup’s Placement Team Continues Setting Records',\n",
       " 'contents': '\\n\\n\\n\\n\\n\\nOur Placement Team is simply defined as a group that manages relationships with our employer partners and our graduating students to help get our graduating students hired. Last quarter the Placement Team helped 48 students get hired to life-changing careers in tech. Last month our Placement Team has already placed 40 students with top tech companies. For that, we want to send a huge thank you to both our Placement Team and our Employer Partners who have done a tremendous job of helping Codeup empower life change for these students.\\nWho exactly got hired and where? Check out the list below!\\n\\n\\nKirsten Collier – hired at CGI as a Java Developer\\nMichael Baker – hired to CGI as a Java Developer\\nMichael Troia – hired to CDW as an Associate Consulting Engineer\\xa0\\nCarlos Padilla – hired at CGI as a Java Developer\\xa0\\nVictor G. Hernandez – hired at Anderson Marketing Group as a Java Developer\\nNicholas Martinez – hired at Seggazza as a Software Engineer\\xa0\\nJordan Felan – hired at Seggazza as a Software Engineer\\nSavannah Garcia – hired at CGI as a Java Developer\\nRicardo Figueroa – hired at CGI as a Java Developer\\nDemetrio Tovar – hired at CGI as a Java Developer\\nRaul Martinez – hired at CGI as a Java Developer\\nPrachi Phatak – hired at Olo as a Software Engineer II\\xa0\\nJesse Sosa-Leffew – hired at CGI as a Java Developer\\nAmado Azua – hired at CGI as a Java Developer\\nGrady Griffin – hired at Howard.pro as a Software Developer\\nStephen Nguyen – hired at Silotech Group as an Associate Software Developer\\nJoshua Borreli – hired at Silotech Group as an Associate Software Developer\\nErik Ayalasga – hired at Accenture Federal as a Java Developer\\xa0\\nChristopher Espinoza –\\xa0 hired at Silotech Group as an Associate Software Developer\\nCorey Shaw – hired at CGI as a Java Developer\\nSamuel Bowcut – hired at Silotech Group as an Associate Software Developer\\nSean Lewis – hired at Accenture Federal as a Software Engineering Associate\\xa0\\nRobert Sledge – hired at Accenture Federal as a Software Engineering Associate\\nMatthew Walker – hired at Accenture Federal as a Software Engineering Associate\\xa0\\nMatthew Dalton – hired at Oracle as an APEX Developer\\nDustin Martinez – hired at Accenture Federal as a Software Engineering Associate\\xa0\\nKelvon Pointer-Patterson – hired at Accenture Federal as a Java Developer Associate\\xa0\\nKenyon Luce – hired at Accenture Federal as a Java Developer Associate\\nJuan Garcia – hired at Accenture Federal as a Software Engineering Associate\\xa0\\nAlexander Hernando-Avitia – hired at Accenture Federal as a Software Engineering Associate\\xa0\\nJohn Pierce – hired at Accenture Federal as a Software Engineering Associate\\xa0\\nDavid Wagnon – hired at Social Solutions as an Associate Software Engineer\\nEvan Williams – hired at Social Solutions as an Associate Software Engineer\\nRose Barcus – hired at Accenture Federal as a Software Engineering Associate\\nDavid Culver – hired at Accenture Federal as a Software Engineering Associate\\nAustin Whitley – hired at Accenture Federal as a Software Engineering Associate\\nAnna Vu – hired at Sparrow Partners as a Data Scientist\\xa0\\nRoberty Murphy – hired at Lone Star Analysis as an Analysis Professional\\xa0\\nCindy Villanueva – hired at Colorado Community Managed Care Network as a Data Engineer\\xa0\\nMotchell Higue – hired at USAA as a Full Stack Developer\\n\\n\\n\\n\\nCurious what it’s like to hire a Codeup graduate? Check out our hiring process here.\\nWant to land a life changing career like these students did? Check our list of programs offered here.\\n\\n\\n\\n \\n\\n'}"
      ]
     },
     "execution_count": 28,
     "metadata": {},
     "output_type": "execute_result"
    }
   ],
   "source": [
    "get_one_blog_article('https://codeup.com/codeup-news/codeups-placement-team-continues-setting-records/')"
   ]
  },
  {
   "cell_type": "markdown",
   "id": "11204c5e-9aaf-4a3d-8f45-7e5330820dee",
   "metadata": {},
   "source": [
    "#### URL 5"
   ]
  },
  {
   "cell_type": "code",
   "execution_count": 29,
   "id": "c2397e5c-127e-46a5-97e8-8105c317762a",
   "metadata": {},
   "outputs": [
    {
     "data": {
      "text/plain": [
       "{'title': 'IT Certifications 101: Why They Matter, and Why They Don’t',\n",
       " 'contents': '\\n\\n\\n\\n\\n\\nAWS, Google, Azure, Red Hat, CompTIA…these are big names in IT! And not only for their products, but also for the certifications they offer. If you’re new to tech, you might be wondering: Do certifications really matter? Welcome to IT Certifications 101! What’s the tl;dr? Certifications are critical to getting past HR for certain roles, but they won’t get you the job.\\nWhat are IT Certifications?\\nCertifications are official credentials given by companies, institutions, and vendors to verify that you have demonstrated a specific knowledge or skill. They are a stamp of approval from a known brand (like Amazon) saying “This person knows their stuff.” Certs are used in a lot of industries, including technology. Even within tech, there are dozens of vendors and hundreds of certs.\\nWhy do IT Certifications matter to employers?\\nMany roles (including security, system administration, and networking) require certain certs to make it in the door of an interview process. This filter matters for several reasons: it helps narrow down the pool of applicants, it establishes a baseline of shared knowledge or experience across all applicants, and it expedites the process so that employers don’t have to spend as much time vetting basic technical skills.\\n\\n\\n\\n\\n\\nWhy do they matter to you?\\nObtaining certs in IT will provide you with a number of benefits:\\n\\nYou will show up in recruiter searches on LinkedIn!\\nYou can follow specific, concrete paths for your career development\\nYou obtain industry-recognized, respected, and transferable credentials relevant for your whole career\\nYou develop relevant and broad-base content knowledge\\nYou will be able to pass initial HR screenings and land a seat in the interview\\n\\nWhy DON’T they matter to employers and you?\\nAt the end of the day, certifications are just pieces of paper. They represent your ability to pass a test, not to do a job. Sometimes those things are one and the same, but usually, they are very different. Certifications are like the entrance fee to get into a tournament: you still need to fight your way to the top. And when you’re standing in the ring, it’s better to know how to fight than to have a degree in fighting.\\nAdditionally, not all jobs within tech care about certifications at all. For example, there is technically a Java programming certification from Oracle, but it’s almost never required or considered for job applications because it tests very specific, abnormal, and academic concepts that don’t apply to most real-world software development.\\nIf Certs matter AND don’t matter, what do I do?\\nAt Codeup, we like to think of our IT training as CertificationsPLUS, as in – you get certifications PLUS hands-on experience. Here’s a quick way to think about it: Amazon Web Services has basic certifications called Cloud Practitioner and Solutions Architect Associate. The official Amazon training for these certs is 1 week: 4 days of training and 1 day of exam readiness. The 1-week schedule will present to you mostly everything you need to pass the certification exam, and then it’s on you to go cram and memorize to get ready. Once you pass, you’ll have the cert, but you’ll be a paper tiger: all bark and no bite. In other words, you’ll appear knowledgeable and skillful on paper, but in reality, you won’t have any experience or know-how for completing the real work.\\nAlternatively, Codeup spends 5 weeks on AWS, combining exam study and hands-on practice. That way, you can talk the talk and walk the walk.\\nIf you want to learn more about IT certification and training paths, reach out to us at info@codeup.com!\\n\\n\\n\\n \\n\\n'}"
      ]
     },
     "execution_count": 29,
     "metadata": {},
     "output_type": "execute_result"
    }
   ],
   "source": [
    "get_one_blog_article('https://codeup.com/it-training/it-certifications-101/')"
   ]
  },
  {
   "cell_type": "code",
   "execution_count": 35,
   "id": "cb32c749-9362-4ab4-90ea-66a9a955e569",
   "metadata": {},
   "outputs": [],
   "source": [
    "def get_blog_articles(urls):\n",
    "    # Create a list of dictionaries\n",
    "    list_dic = [get_one_blog_article(url) for url in urls] \n",
    "    # Return a data frame\n",
    "    return pd.DataFrame(list_dic).style.set_properties(**{'text-align':'left'})"
   ]
  },
  {
   "cell_type": "code",
   "execution_count": 36,
   "id": "eb92f9e5-9096-41f5-848e-e6513edd67d8",
   "metadata": {},
   "outputs": [],
   "source": [
    "urls = [\n",
    "    'https://codeup.com/codeup-news/codeup-start-dates-for-march-2022/',\n",
    "    'https://codeup.com/featured/5-books-every-woman-in-tech-should-read/',\n",
    "    'https://codeup.com/codeup-news/dallas-campus-re-opens-with-new-grant-partner/',\n",
    "    'https://codeup.com/codeup-news/codeups-placement-team-continues-setting-records/',\n",
    "    'https://codeup.com/it-training/it-certifications-101/'\n",
    "]"
   ]
  },
  {
   "cell_type": "code",
   "execution_count": 37,
   "id": "c2d1f187-a015-46e0-9ca1-73eeb2d0ee46",
   "metadata": {},
   "outputs": [
    {
     "data": {
      "text/html": [
       "<style type=\"text/css\">\n",
       "#T_ac5d3_row0_col0, #T_ac5d3_row0_col1, #T_ac5d3_row1_col0, #T_ac5d3_row1_col1, #T_ac5d3_row2_col0, #T_ac5d3_row2_col1, #T_ac5d3_row3_col0, #T_ac5d3_row3_col1, #T_ac5d3_row4_col0, #T_ac5d3_row4_col1 {\n",
       "  text-align: left;\n",
       "}\n",
       "</style>\n",
       "<table id=\"T_ac5d3_\">\n",
       "  <thead>\n",
       "    <tr>\n",
       "      <th class=\"blank level0\" >&nbsp;</th>\n",
       "      <th class=\"col_heading level0 col0\" >title</th>\n",
       "      <th class=\"col_heading level0 col1\" >contents</th>\n",
       "    </tr>\n",
       "  </thead>\n",
       "  <tbody>\n",
       "    <tr>\n",
       "      <th id=\"T_ac5d3_level0_row0\" class=\"row_heading level0 row0\" >0</th>\n",
       "      <td id=\"T_ac5d3_row0_col0\" class=\"data row0 col0\" >Codeup Start Dates for March 2022</td>\n",
       "      <td id=\"T_ac5d3_row0_col1\" class=\"data row0 col1\" >\n",
       "As we approach the end of January we wanted to look forward to our next start dates for all of our current programs.\n",
       "Full Stack Web Development – 3/7/22\n",
       "Full Stack Web Development is the first program we built and also our most popular. You’ve asked and we listened! Our next Web Development cohort will start on 3/7/2022 and is ENTIRELY VIRTUAL! THESE SEATS WILL GO FAST!\n",
       "As one of the most in-demand jobs in the country, software and web development is the tech career with the newest jobs. In the U.S., there’s:\n",
       "\n",
       "1.5 million developer jobs*\n",
       "250,000 of them remain open\n",
       "a high growth rate of 13%*\n",
       "\n",
       " \n",
       "Data Science – 3/22/22\n",
       "Our first new Data Science class of 2022 starts Monday 3/22/2022 at our downtown campus at the Vogue building.\n",
       "Why consider pivoting careers to Data Science?\n",
       "\n",
       "#1 job in America from 2016-2020 (Glassdoor*)\n",
       "650% increase in data science positions since 2012\n",
       "Nearly 12 million new jobs between 2019 and 2029\n",
       "31% ten-year growth rate\n",
       "\n",
       "The supply of data scientists remains painfully low compared to the outrageous demand. YOU can help close the gap while launching a fulfilling, secure, and high-paying career – one of the very best in the country!\n",
       "Employers are scrambling to find talent due to a lack of qualified applicants. YOU can help fill the gap while future-proofing your skillset. Have the flexibility, security, and salary that you’ve always wanted in a career.\n",
       "Are you ready to launch your career in tech? Apply today so our admissions team can save your seat and get your name on the list. Our application can be found here. \n",
       "Want to experience Codeup early? Join one of our workshops to get an intro to a specific coding language, learn about our financing options, or maybe even code yourself a resume! All of our events can be located here. \n",
       "We can’t wait to help you launch your career in tech!\n",
       "</td>\n",
       "    </tr>\n",
       "    <tr>\n",
       "      <th id=\"T_ac5d3_level0_row1\" class=\"row_heading level0 row1\" >1</th>\n",
       "      <td id=\"T_ac5d3_row1_col0\" class=\"data row1 col0\" >5 Books Every Woman In Tech Should Read</td>\n",
       "      <td id=\"T_ac5d3_row1_col1\" class=\"data row1 col1\" >\n",
       "On this International Women’s Day 2022 we wanted to tell stories about women in tech. What better way to do that than celebrate female authors! These women have written phenomenal books in the tech space to tell their stories. These are women who have walked the walk in the tech world and/or offered unique perspectives to not just women in tech, but women in the workplace. This list goes in no particular order as we believe you should add all of these to your kindle or book library asap. You can click on each book image to take you to a purchase page on Amazon.\n",
       "Let’s dive into the list below:\n",
       "Reset: My Fight for Inclusion and Lasting Change by Ellen Pao\n",
       "From the book’s description on Amazon:\n",
       "“In 2015, Ellen K. Pao sued a powerhouse Silicon Valley venture capital firm, calling out workplace discrimination and retaliation against women and other underrepresented groups. Her suit rocked the tech world—and exposed its toxic culture and its homogeneity. Her message overcame negative PR attacks that took aim at her professional conduct and her personal life, and she won widespread public support—Time hailed her as “the face of change.” Though Pao lost her suit, she revolutionized the conversation at tech offices, in the media, and around the world. In Reset, she tells her full story for the first time.”\n",
       "\n",
       " \n",
       "Female Innovators at Work: Women on Top of Tech by Danielle Newnham \n",
       "From the book’s description on Amazon:\n",
       "“This book describes the experiences and successes of female innovators and entrepreneurs in the still largely male-dominated tech world in twenty candid interviews. It highlights the varied life and career stories that lead these women to the top positions in the technology industry that they are in now.\n",
       "Interviewees include CEOs, founders, and inventors from a wide spectrum of tech organizations across sectors as varied as mobile technology, e-commerce, online education, and video games. Interviewer Danielle Newnham, a mobile startup and e-commerce entrepreneur herself as well as an online community organizer, presents the insights, instructive anecdotes, and advice shared with her in the interviews, including stories about raising capital for one’s start-up, and about the obstacles these women encountered and how they overcame them.”\n",
       "\n",
       " \n",
       "Technically Wrong: Sexist Apps, Biased Algorithms, and Other Threats of Toxic Tech by Sara Wachter-Boettcher\n",
       "From the book’s description on Amazon:\n",
       "“Buying groceries, tracking our health, finding a date: whatever we want to do, odds are that we can now do it online. But few of us ask how all these digital products are designed, or why. It’s time we change that. Many of the services we rely on are full of oversights, biases, and downright ethical nightmares. Chatbots that harass women. Signup forms that fail anyone who’s not straight. Social media sites that send peppy messages about dead relatives. Algorithms that put more black people behind bars. \n",
       "Technically Wrong takes an unflinching look at the values, processes, and assumptions that lead to these problems and more. Wachter-Boettcher demystifies the tech industry, leaving those of us on the other side of the screen better prepared to make informed choices about the services we use – and demand more from the companies behind them.”\n",
       "\n",
       " \n",
       "Brotopia: Breaking Up the Boys’ Club of Silicon Valley by Emily Chang\n",
       "From the book’s description on Amazon:\n",
       "“Silicon Valley is not a fantasyland of unicorns, virtual reality rainbows, and 3D-printed lollipops for women in tech. Instead, it’s a “Brotopia,” where men hold the cards and make the rules. While millions of dollars may seem to grow on trees in this land of innovation, tech’s aggressive, misogynistic, work-at-all costs culture has shut women out of the greatest wealth creation in the history of the world.\n",
       "Brotopia reveals how Silicon Valley got so sexist despite its utopian ideals, why bro culture endures even as its companies claim the moral high ground, and how women are speaking out and fighting back. Drawing on her deep network of Silicon Valley insiders, Chang opens the boardroom doors of male-dominated venture capital firms like Kleiner Perkins, the subject of Ellen Pao’s high-profile gender discrimination lawsuit, and Sequoia, where a partner once famously said they “won’t lower their standards” just to hire women. Exposing the flawed logic in common excuses for why tech has long suffered the “pipeline” problem and invests in the delusion of meritocracy, Brotopia also shows how bias coded into AI, internet troll culture, and the reliance on pattern recognition harms not just women in tech but us all, and at an unprecedented scale.”\n",
       "\n",
       " \n",
       "Life in Code: A Personal History of Technology by Ellen Ullman\n",
       "From the book’s description on Amazon:\n",
       "“The last twenty years have brought us the rise of the internet, the development of artificial intelligence, the ubiquity of once unimaginably powerful computers, and the thorough transformation of our economy and society. Through it all, Ellen Ullman lived and worked inside that rising culture of technology, and in Life in Code she tells the continuing story of the changes it wrought with a unique, expert perspective.\n",
       "When Ellen Ullman moved to San Francisco in the early 1970s and went on to become a computer programmer, she was joining a small, idealistic, and almost exclusively male cadre that aspired to genuinely change the world. In 1997 Ullman wrote Close to the Machine, the now classic and still definitive account of life as a coder at the birth of what would be a sweeping technological, cultural, and financial revolution.\n",
       "Twenty years later, the story Ullman recounts is neither one of unbridled triumph nor a nostalgic denial of progress. It is necessarily the story of digital technology’s loss of innocence as it entered the cultural mainstream, and it is a personal reckoning with all that has changed, and so much that hasn’t. Life in Code is an essential text toward our understanding of the last twenty years–and the next twenty.”\n",
       "\n",
       " \n",
       "Let us know your thoughts on this list on social media! What books or authors should we add to this list for a future post?\n",
       "Are you a woman who is interested in launching your career in tech? Help us close the gender gap in tech and apply for our Women in Tech scholarship! You can learn more by clicking here. \n",
       "We have a Data Science program that starts on 3/21 and a Web Development program that starts on 4/1. Let us know if you have questions by submitting your application or reaching out to us at admissions@codeup.com!\n",
       "</td>\n",
       "    </tr>\n",
       "    <tr>\n",
       "      <th id=\"T_ac5d3_level0_row2\" class=\"row_heading level0 row2\" >2</th>\n",
       "      <td id=\"T_ac5d3_row2_col0\" class=\"data row2 col0\" >Dallas Campus Re-opens With New Grant Partner</td>\n",
       "      <td id=\"T_ac5d3_row2_col1\" class=\"data row2 col1\" >\n",
       "\n",
       "\n",
       "\n",
       "\n",
       "\n",
       "We are happy to announce that our Dallas campus re-opened! Better yet, we have a new grant partner that can fund up to $15,000 in tuition for eligible students. Are you a DFW resident who:\n",
       "\n",
       "Is unemployed or under-employed\n",
       "work has been affected by COVID-19\n",
       "a military veteran\n",
       "under the age of 25\n",
       "\n",
       "If so, follow the steps below to seek up to $15,000 in tuition funding!\n",
       "\n",
       "Register for an account at www.workintexas.com – click “Sign in” and then select Option 3: Create a User Account\n",
       "Find the nearest Workforce Center to your residence using this tool\n",
       "Attend a WIOA information session – these sessions occur at different times at different locations. Contact your local center for more information after registering at Work in Texas\n",
       "Select Codeup as the program for training, and notify tuition@codeup.com of your progress\n",
       "\n",
       "Our next Web Development class starts January 31st, 2022, and will be the first class in-person in two years! Hands-on experience and learning side-by-side with your fellow classmates is an experience hard to duplicate virtually. COVID-19 protocols are in place to keep all students and staff safe while attending the campus in person. Are you ready to start a new career in the New Year!? Seats are limited, so apply now here or email admissions@codeup.com for more info!\n",
       "\n",
       "\n",
       "\n",
       " \n",
       "\n",
       "</td>\n",
       "    </tr>\n",
       "    <tr>\n",
       "      <th id=\"T_ac5d3_level0_row3\" class=\"row_heading level0 row3\" >3</th>\n",
       "      <td id=\"T_ac5d3_row3_col0\" class=\"data row3 col0\" >Codeup’s Placement Team Continues Setting Records</td>\n",
       "      <td id=\"T_ac5d3_row3_col1\" class=\"data row3 col1\" >\n",
       "\n",
       "\n",
       "\n",
       "\n",
       "\n",
       "Our Placement Team is simply defined as a group that manages relationships with our employer partners and our graduating students to help get our graduating students hired. Last quarter the Placement Team helped 48 students get hired to life-changing careers in tech. Last month our Placement Team has already placed 40 students with top tech companies. For that, we want to send a huge thank you to both our Placement Team and our Employer Partners who have done a tremendous job of helping Codeup empower life change for these students.\n",
       "Who exactly got hired and where? Check out the list below!\n",
       "\n",
       "\n",
       "Kirsten Collier – hired at CGI as a Java Developer\n",
       "Michael Baker – hired to CGI as a Java Developer\n",
       "Michael Troia – hired to CDW as an Associate Consulting Engineer \n",
       "Carlos Padilla – hired at CGI as a Java Developer \n",
       "Victor G. Hernandez – hired at Anderson Marketing Group as a Java Developer\n",
       "Nicholas Martinez – hired at Seggazza as a Software Engineer \n",
       "Jordan Felan – hired at Seggazza as a Software Engineer\n",
       "Savannah Garcia – hired at CGI as a Java Developer\n",
       "Ricardo Figueroa – hired at CGI as a Java Developer\n",
       "Demetrio Tovar – hired at CGI as a Java Developer\n",
       "Raul Martinez – hired at CGI as a Java Developer\n",
       "Prachi Phatak – hired at Olo as a Software Engineer II \n",
       "Jesse Sosa-Leffew – hired at CGI as a Java Developer\n",
       "Amado Azua – hired at CGI as a Java Developer\n",
       "Grady Griffin – hired at Howard.pro as a Software Developer\n",
       "Stephen Nguyen – hired at Silotech Group as an Associate Software Developer\n",
       "Joshua Borreli – hired at Silotech Group as an Associate Software Developer\n",
       "Erik Ayalasga – hired at Accenture Federal as a Java Developer \n",
       "Christopher Espinoza –  hired at Silotech Group as an Associate Software Developer\n",
       "Corey Shaw – hired at CGI as a Java Developer\n",
       "Samuel Bowcut – hired at Silotech Group as an Associate Software Developer\n",
       "Sean Lewis – hired at Accenture Federal as a Software Engineering Associate \n",
       "Robert Sledge – hired at Accenture Federal as a Software Engineering Associate\n",
       "Matthew Walker – hired at Accenture Federal as a Software Engineering Associate \n",
       "Matthew Dalton – hired at Oracle as an APEX Developer\n",
       "Dustin Martinez – hired at Accenture Federal as a Software Engineering Associate \n",
       "Kelvon Pointer-Patterson – hired at Accenture Federal as a Java Developer Associate \n",
       "Kenyon Luce – hired at Accenture Federal as a Java Developer Associate\n",
       "Juan Garcia – hired at Accenture Federal as a Software Engineering Associate \n",
       "Alexander Hernando-Avitia – hired at Accenture Federal as a Software Engineering Associate \n",
       "John Pierce – hired at Accenture Federal as a Software Engineering Associate \n",
       "David Wagnon – hired at Social Solutions as an Associate Software Engineer\n",
       "Evan Williams – hired at Social Solutions as an Associate Software Engineer\n",
       "Rose Barcus – hired at Accenture Federal as a Software Engineering Associate\n",
       "David Culver – hired at Accenture Federal as a Software Engineering Associate\n",
       "Austin Whitley – hired at Accenture Federal as a Software Engineering Associate\n",
       "Anna Vu – hired at Sparrow Partners as a Data Scientist \n",
       "Roberty Murphy – hired at Lone Star Analysis as an Analysis Professional \n",
       "Cindy Villanueva – hired at Colorado Community Managed Care Network as a Data Engineer \n",
       "Motchell Higue – hired at USAA as a Full Stack Developer\n",
       "\n",
       "\n",
       "\n",
       "\n",
       "Curious what it’s like to hire a Codeup graduate? Check out our hiring process here.\n",
       "Want to land a life changing career like these students did? Check our list of programs offered here.\n",
       "\n",
       "\n",
       "\n",
       " \n",
       "\n",
       "</td>\n",
       "    </tr>\n",
       "    <tr>\n",
       "      <th id=\"T_ac5d3_level0_row4\" class=\"row_heading level0 row4\" >4</th>\n",
       "      <td id=\"T_ac5d3_row4_col0\" class=\"data row4 col0\" >IT Certifications 101: Why They Matter, and Why They Don’t</td>\n",
       "      <td id=\"T_ac5d3_row4_col1\" class=\"data row4 col1\" >\n",
       "\n",
       "\n",
       "\n",
       "\n",
       "\n",
       "AWS, Google, Azure, Red Hat, CompTIA…these are big names in IT! And not only for their products, but also for the certifications they offer. If you’re new to tech, you might be wondering: Do certifications really matter? Welcome to IT Certifications 101! What’s the tl;dr? Certifications are critical to getting past HR for certain roles, but they won’t get you the job.\n",
       "What are IT Certifications?\n",
       "Certifications are official credentials given by companies, institutions, and vendors to verify that you have demonstrated a specific knowledge or skill. They are a stamp of approval from a known brand (like Amazon) saying “This person knows their stuff.” Certs are used in a lot of industries, including technology. Even within tech, there are dozens of vendors and hundreds of certs.\n",
       "Why do IT Certifications matter to employers?\n",
       "Many roles (including security, system administration, and networking) require certain certs to make it in the door of an interview process. This filter matters for several reasons: it helps narrow down the pool of applicants, it establishes a baseline of shared knowledge or experience across all applicants, and it expedites the process so that employers don’t have to spend as much time vetting basic technical skills.\n",
       "\n",
       "\n",
       "\n",
       "\n",
       "\n",
       "Why do they matter to you?\n",
       "Obtaining certs in IT will provide you with a number of benefits:\n",
       "\n",
       "You will show up in recruiter searches on LinkedIn!\n",
       "You can follow specific, concrete paths for your career development\n",
       "You obtain industry-recognized, respected, and transferable credentials relevant for your whole career\n",
       "You develop relevant and broad-base content knowledge\n",
       "You will be able to pass initial HR screenings and land a seat in the interview\n",
       "\n",
       "Why DON’T they matter to employers and you?\n",
       "At the end of the day, certifications are just pieces of paper. They represent your ability to pass a test, not to do a job. Sometimes those things are one and the same, but usually, they are very different. Certifications are like the entrance fee to get into a tournament: you still need to fight your way to the top. And when you’re standing in the ring, it’s better to know how to fight than to have a degree in fighting.\n",
       "Additionally, not all jobs within tech care about certifications at all. For example, there is technically a Java programming certification from Oracle, but it’s almost never required or considered for job applications because it tests very specific, abnormal, and academic concepts that don’t apply to most real-world software development.\n",
       "If Certs matter AND don’t matter, what do I do?\n",
       "At Codeup, we like to think of our IT training as CertificationsPLUS, as in – you get certifications PLUS hands-on experience. Here’s a quick way to think about it: Amazon Web Services has basic certifications called Cloud Practitioner and Solutions Architect Associate. The official Amazon training for these certs is 1 week: 4 days of training and 1 day of exam readiness. The 1-week schedule will present to you mostly everything you need to pass the certification exam, and then it’s on you to go cram and memorize to get ready. Once you pass, you’ll have the cert, but you’ll be a paper tiger: all bark and no bite. In other words, you’ll appear knowledgeable and skillful on paper, but in reality, you won’t have any experience or know-how for completing the real work.\n",
       "Alternatively, Codeup spends 5 weeks on AWS, combining exam study and hands-on practice. That way, you can talk the talk and walk the walk.\n",
       "If you want to learn more about IT certification and training paths, reach out to us at info@codeup.com!\n",
       "\n",
       "\n",
       "\n",
       " \n",
       "\n",
       "</td>\n",
       "    </tr>\n",
       "  </tbody>\n",
       "</table>\n"
      ],
      "text/plain": [
       "<pandas.io.formats.style.Styler at 0x7fba0eedbe80>"
      ]
     },
     "execution_count": 37,
     "metadata": {},
     "output_type": "execute_result"
    }
   ],
   "source": [
    "get_blog_articles(urls)"
   ]
  },
  {
   "cell_type": "code",
   "execution_count": 10,
   "id": "6ec98c28-646a-49b5-9414-0d9a49df5a0f",
   "metadata": {},
   "outputs": [],
   "source": [
    "'''\n",
    "def get_blog_articles():\n",
    "    output = {}\n",
    "    output['title'] = soup.select_one('h1.entry-title').text\n",
    "    output['contents'] = soup.select_one('div.entry-content').text\n",
    "    return output\n",
    "    '''"
   ]
  },
  {
   "cell_type": "markdown",
   "id": "ae210b1c-f88e-458b-90c9-c9aca6f39cf6",
   "metadata": {},
   "source": [
    "---"
   ]
  },
  {
   "cell_type": "markdown",
   "id": "8736d601-b283-47e7-ba1c-e8f39e69c7de",
   "metadata": {},
   "source": [
    "# 2. News Articles\n",
    "\n",
    "We will now be scraping text data from inshorts, a website that provides a brief overview of many different topics.\n",
    "\n",
    "Write a function that scrapes the news articles for the following topics:\n",
    "\n",
    "- Business\n",
    "- Sports\n",
    "- Technology\n",
    "- Entertainment\n",
    "The end product of this should be a function named \n",
    "- get_news_articles \n",
    "    - that returns a list of dictionaries, where each dictionary has this shape:"
   ]
  },
  {
   "cell_type": "code",
   "execution_count": 21,
   "id": "4c8fb071-6613-48c8-81f6-2ad047ac2611",
   "metadata": {},
   "outputs": [
    {
     "data": {
      "text/plain": [
       "{'title': 'The article title',\n",
       " 'content': 'The article content',\n",
       " 'category': 'business'}"
      ]
     },
     "execution_count": 21,
     "metadata": {},
     "output_type": "execute_result"
    }
   ],
   "source": [
    "{\n",
    "    'title': 'The article title',\n",
    "    'content': 'The article content',\n",
    "    'category': 'business' # for example\n",
    "}"
   ]
  },
  {
   "cell_type": "markdown",
   "id": "7ffe18d3-d4b7-45d6-90ab-0a79a5ecdc16",
   "metadata": {},
   "source": [
    "Hints:\n",
    "\n",
    "- Start by inspecting the website in your browser. Figure out which elements will be useful.\n",
    "- Start by creating a function that handles a single article and produces a dictionary like the one above.\n",
    "- Next create a function that will find all the articles on a single page and call the function you created in the last step for every article on the page.\n",
    "- Now create a function that will use the previous two functions to scrape the articles from all the pages that you need, and do any additional processing that needs to be done."
   ]
  },
  {
   "cell_type": "code",
   "execution_count": 22,
   "id": "e40641fb-e18e-4bdf-90c7-bf75918ffa5e",
   "metadata": {},
   "outputs": [
    {
     "ename": "IndentationError",
     "evalue": "expected an indented block (870844849.py, line 4)",
     "output_type": "error",
     "traceback": [
      "\u001b[0;36m  File \u001b[0;32m\"/var/folders/jx/x5_xzwy107g6d0zd021r2ph40000gn/T/ipykernel_69085/870844849.py\"\u001b[0;36m, line \u001b[0;32m4\u001b[0m\n\u001b[0;31m    \u001b[0m\n\u001b[0m    ^\u001b[0m\n\u001b[0;31mIndentationError\u001b[0m\u001b[0;31m:\u001b[0m expected an indented block\n"
     ]
    }
   ],
   "source": [
    "def get_news_articles():\n",
    "    \n",
    "    \n",
    "    "
   ]
  },
  {
   "cell_type": "code",
   "execution_count": null,
   "id": "d32bb6d5-2a59-40b6-9025-97d1779466cf",
   "metadata": {},
   "outputs": [],
   "source": [
    "url = 'https://inshorts.com/en/read'\n",
    "response = get(url, headers={'user-agent': 'Codeup DS'})\n",
    "soup = BeautifulSoup(response.text)"
   ]
  },
  {
   "cell_type": "code",
   "execution_count": null,
   "id": "9ad5f378-24ba-4d02-8a24-e718d3cd5220",
   "metadata": {},
   "outputs": [],
   "source": [
    "print(response.text[:400])"
   ]
  },
  {
   "cell_type": "code",
   "execution_count": null,
   "id": "f77629a2-5682-4e6b-80c6-d98d0c062055",
   "metadata": {},
   "outputs": [],
   "source": []
  },
  {
   "cell_type": "code",
   "execution_count": null,
   "id": "b1b17e04-fe34-4479-9b83-792dd5281e86",
   "metadata": {},
   "outputs": [],
   "source": []
  },
  {
   "cell_type": "markdown",
   "id": "20553918-1c4f-40e4-bc51-2a0a287230a5",
   "metadata": {},
   "source": [
    "---"
   ]
  },
  {
   "cell_type": "markdown",
   "id": "074fcb18-0b98-448e-845e-9d93e10adb45",
   "metadata": {},
   "source": [
    "# 3. Bonus: cache the data\n",
    "\n",
    "Write your code such that the acquired data is saved locally in some form or fashion. Your functions that retrieve the data should prefer to read the local data instead of having to make all the requests everytime the function is called. Include a boolean flag in the functions to allow the data to be acquired \"fresh\" from the actual sources (re-writing your local cache)."
   ]
  }
 ],
 "metadata": {
  "kernelspec": {
   "display_name": "Python 3 (ipykernel)",
   "language": "python",
   "name": "python3"
  },
  "language_info": {
   "codemirror_mode": {
    "name": "ipython",
    "version": 3
   },
   "file_extension": ".py",
   "mimetype": "text/x-python",
   "name": "python",
   "nbconvert_exporter": "python",
   "pygments_lexer": "ipython3",
   "version": "3.9.7"
  }
 },
 "nbformat": 4,
 "nbformat_minor": 5
}
