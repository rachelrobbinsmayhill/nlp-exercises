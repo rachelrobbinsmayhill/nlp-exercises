{
 "cells": [
  {
   "cell_type": "markdown",
   "id": "1c638cd7-f3fd-44b8-8e8a-1df474780c0d",
   "metadata": {},
   "source": [
    "# NLP - EXPLORE"
   ]
  },
  {
   "cell_type": "markdown",
   "id": "7a0a3904-5d08-4991-89a1-c1d6e8215872",
   "metadata": {},
   "source": [
    "Do your work for this exercise in a file named explore.\n",
    "\n",
    "## 1. Spam Data"
   ]
  },
  {
   "cell_type": "code",
   "execution_count": 7,
   "id": "646bd4f4-308e-4d95-98d0-877907ef6f5b",
   "metadata": {},
   "outputs": [],
   "source": [
    "import matplotlib.pyplot as plt\n",
    "import seaborn as sns\n",
    "import pandas as pd\n",
    "import nltk\n",
    "import unicodedata\n",
    "import re\n",
    "\n",
    "from wordcloud import WordCloud\n",
    "from prepare import basic_clean, lemmatize, remove_stopwords"
   ]
  },
  {
   "cell_type": "code",
   "execution_count": 8,
   "id": "d42297c7-6b6d-4c61-8eb9-797ada417e44",
   "metadata": {},
   "outputs": [],
   "source": [
    "# set up some basic matplotlib style parameters\n",
    "plt.rc('figure', figsize=(13, 7))\n",
    "plt.style.use('seaborn-darkgrid')"
   ]
  },
  {
   "cell_type": "code",
   "execution_count": 9,
   "id": "78359935-7782-4ea2-b627-a2f4a4285f5e",
   "metadata": {},
   "outputs": [],
   "source": [
    "def clean(text):\n",
    "    '''Simplified text cleaning function'''\n",
    "    text = text.lower()\n",
    "    text = unicodedata.normalize('NFKD', text).encode('ascii', 'ignore').decode('utf-8', 'ignore')\n",
    "    return re.sub(r\"[^a-z0-9\\s]\", '', text)"
   ]
  },
  {
   "cell_type": "markdown",
   "id": "76bb2eb6-b1ac-4afe-a56a-6ea9f9301b1a",
   "metadata": {},
   "source": [
    "### 1a. \n",
    "- Load the spam data set."
   ]
  },
  {
   "cell_type": "code",
   "execution_count": 10,
   "id": "1b621722-1464-4113-8a66-933c1d3ef8cd",
   "metadata": {},
   "outputs": [
    {
     "data": {
      "text/html": [
       "<div>\n",
       "<style scoped>\n",
       "    .dataframe tbody tr th:only-of-type {\n",
       "        vertical-align: middle;\n",
       "    }\n",
       "\n",
       "    .dataframe tbody tr th {\n",
       "        vertical-align: top;\n",
       "    }\n",
       "\n",
       "    .dataframe thead th {\n",
       "        text-align: right;\n",
       "    }\n",
       "</style>\n",
       "<table border=\"1\" class=\"dataframe\">\n",
       "  <thead>\n",
       "    <tr style=\"text-align: right;\">\n",
       "      <th></th>\n",
       "      <th>label</th>\n",
       "      <th>text</th>\n",
       "    </tr>\n",
       "    <tr>\n",
       "      <th>id</th>\n",
       "      <th></th>\n",
       "      <th></th>\n",
       "    </tr>\n",
       "  </thead>\n",
       "  <tbody>\n",
       "    <tr>\n",
       "      <th>0</th>\n",
       "      <td>ham</td>\n",
       "      <td>Go until jurong point, crazy.. Available only ...</td>\n",
       "    </tr>\n",
       "    <tr>\n",
       "      <th>1</th>\n",
       "      <td>ham</td>\n",
       "      <td>Ok lar... Joking wif u oni...</td>\n",
       "    </tr>\n",
       "    <tr>\n",
       "      <th>2</th>\n",
       "      <td>spam</td>\n",
       "      <td>Free entry in 2 a wkly comp to win FA Cup fina...</td>\n",
       "    </tr>\n",
       "    <tr>\n",
       "      <th>3</th>\n",
       "      <td>ham</td>\n",
       "      <td>U dun say so early hor... U c already then say...</td>\n",
       "    </tr>\n",
       "    <tr>\n",
       "      <th>4</th>\n",
       "      <td>ham</td>\n",
       "      <td>Nah I don't think he goes to usf, he lives aro...</td>\n",
       "    </tr>\n",
       "  </tbody>\n",
       "</table>\n",
       "</div>"
      ],
      "text/plain": [
       "   label                                               text\n",
       "id                                                         \n",
       "0    ham  Go until jurong point, crazy.. Available only ...\n",
       "1    ham                      Ok lar... Joking wif u oni...\n",
       "2   spam  Free entry in 2 a wkly comp to win FA Cup fina...\n",
       "3    ham  U dun say so early hor... U c already then say...\n",
       "4    ham  Nah I don't think he goes to usf, he lives aro..."
      ]
     },
     "execution_count": 10,
     "metadata": {},
     "output_type": "execute_result"
    }
   ],
   "source": [
    "#acquire data from spam_db\n",
    "\n",
    "from env import user, password, host\n",
    "\n",
    "def get_db_url(database, host=host, user=user, password=password):\n",
    "    return f'mysql+pymysql://{user}:{password}@{host}/{database}'\n",
    "\n",
    "\n",
    "url = get_db_url(\"spam_db\")\n",
    "sql = \"SELECT * FROM spam\"\n",
    "\n",
    "df = pd.read_sql(sql, url, index_col=\"id\")\n",
    "df.head()"
   ]
  },
  {
   "cell_type": "code",
   "execution_count": 11,
   "id": "23e74890-5ccd-4a84-ba13-34e3a060de0b",
   "metadata": {},
   "outputs": [],
   "source": [
    "def clean(text):\n",
    "    return remove_stopwords(lemmatize(basic_clean(text)))"
   ]
  },
  {
   "cell_type": "code",
   "execution_count": 13,
   "id": "342611b8-db2f-4229-8abe-b3ef69cc2025",
   "metadata": {},
   "outputs": [],
   "source": [
    "#df.text = df.text.apply(clean)"
   ]
  },
  {
   "cell_type": "code",
   "execution_count": 15,
   "id": "8761f04e-e2a5-454e-9f30-a38da93490b5",
   "metadata": {},
   "outputs": [
    {
     "data": {
      "text/plain": [
       "\"\\nall_text = ' '.join(df.text)\\nspam_text = ' '.join(df[df.label == 'spam'].text)\\nham_text = ' '.join(df[df.label == 'ham'].text)\\nall_text = clean(all_text)\\nspam_text = clean(spam_text)\\nham_text = clean(ham_text)\\n\""
      ]
     },
     "execution_count": 15,
     "metadata": {},
     "output_type": "execute_result"
    }
   ],
   "source": [
    "'''\n",
    "all_text = ' '.join(df.text)\n",
    "spam_text = ' '.join(df[df.label == 'spam'].text)\n",
    "ham_text = ' '.join(df[df.label == 'ham'].text)\n",
    "all_text = clean(all_text)\n",
    "spam_text = clean(spam_text)\n",
    "ham_text = clean(ham_text)\n",
    "'''"
   ]
  },
  {
   "cell_type": "code",
   "execution_count": 16,
   "id": "adcb7244-d245-4813-a85c-b046a69528e7",
   "metadata": {},
   "outputs": [],
   "source": [
    "ham_freq = pd.Series(ham_text.split()).value_counts()\n",
    "spam_freq = pd.Series(spam_text.split()).value_counts()\n",
    "all_freq = pd.Series(all_text.split()).value_counts()"
   ]
  },
  {
   "cell_type": "code",
   "execution_count": 17,
   "id": "49b44b30-6d90-450f-94ab-a71266422903",
   "metadata": {},
   "outputs": [],
   "source": [
    "word_counts = pd.concat([all_freq, spam_freq, ham_freq], sort=True, axis=1)\n",
    "word_counts.columns = ['all', 'spam', 'ham']\n",
    "word_counts = word_counts.fillna(0).apply(lambda s: s.astype(int))"
   ]
  },
  {
   "cell_type": "code",
   "execution_count": 18,
   "id": "7282275d-2c61-42ea-813c-efb62caf723f",
   "metadata": {},
   "outputs": [
    {
     "data": {
      "text/html": [
       "<div>\n",
       "<style scoped>\n",
       "    .dataframe tbody tr th:only-of-type {\n",
       "        vertical-align: middle;\n",
       "    }\n",
       "\n",
       "    .dataframe tbody tr th {\n",
       "        vertical-align: top;\n",
       "    }\n",
       "\n",
       "    .dataframe thead th {\n",
       "        text-align: right;\n",
       "    }\n",
       "</style>\n",
       "<table border=\"1\" class=\"dataframe\">\n",
       "  <thead>\n",
       "    <tr style=\"text-align: right;\">\n",
       "      <th></th>\n",
       "      <th>all</th>\n",
       "      <th>spam</th>\n",
       "      <th>ham</th>\n",
       "    </tr>\n",
       "  </thead>\n",
       "  <tbody>\n",
       "    <tr>\n",
       "      <th>u</th>\n",
       "      <td>779</td>\n",
       "      <td>62</td>\n",
       "      <td>717</td>\n",
       "    </tr>\n",
       "    <tr>\n",
       "      <th>2</th>\n",
       "      <td>524</td>\n",
       "      <td>198</td>\n",
       "      <td>326</td>\n",
       "    </tr>\n",
       "    <tr>\n",
       "      <th>call</th>\n",
       "      <td>393</td>\n",
       "      <td>189</td>\n",
       "      <td>204</td>\n",
       "    </tr>\n",
       "    <tr>\n",
       "      <th>get</th>\n",
       "      <td>335</td>\n",
       "      <td>45</td>\n",
       "      <td>290</td>\n",
       "    </tr>\n",
       "    <tr>\n",
       "      <th>ur</th>\n",
       "      <td>312</td>\n",
       "      <td>114</td>\n",
       "      <td>198</td>\n",
       "    </tr>\n",
       "    <tr>\n",
       "      <th>...</th>\n",
       "      <td>...</td>\n",
       "      <td>...</td>\n",
       "      <td>...</td>\n",
       "    </tr>\n",
       "    <tr>\n",
       "      <th>lowly</th>\n",
       "      <td>1</td>\n",
       "      <td>0</td>\n",
       "      <td>1</td>\n",
       "    </tr>\n",
       "    <tr>\n",
       "      <th>lowes</th>\n",
       "      <td>1</td>\n",
       "      <td>0</td>\n",
       "      <td>1</td>\n",
       "    </tr>\n",
       "    <tr>\n",
       "      <th>lovly</th>\n",
       "      <td>1</td>\n",
       "      <td>0</td>\n",
       "      <td>1</td>\n",
       "    </tr>\n",
       "    <tr>\n",
       "      <th>avoids</th>\n",
       "      <td>1</td>\n",
       "      <td>0</td>\n",
       "      <td>1</td>\n",
       "    </tr>\n",
       "    <tr>\n",
       "      <th>jabo</th>\n",
       "      <td>1</td>\n",
       "      <td>0</td>\n",
       "      <td>1</td>\n",
       "    </tr>\n",
       "  </tbody>\n",
       "</table>\n",
       "<p>9620 rows × 3 columns</p>\n",
       "</div>"
      ],
      "text/plain": [
       "        all  spam  ham\n",
       "u       779    62  717\n",
       "2       524   198  326\n",
       "call    393   189  204\n",
       "get     335    45  290\n",
       "ur      312   114  198\n",
       "...     ...   ...  ...\n",
       "lowly     1     0    1\n",
       "lowes     1     0    1\n",
       "lovly     1     0    1\n",
       "avoids    1     0    1\n",
       "jabo      1     0    1\n",
       "\n",
       "[9620 rows x 3 columns]"
      ]
     },
     "execution_count": 18,
     "metadata": {},
     "output_type": "execute_result"
    }
   ],
   "source": [
    "word_counts.sort_values(by='all', ascending=False)"
   ]
  },
  {
   "cell_type": "code",
   "execution_count": 19,
   "id": "90c8f530-d24c-4d37-acce-14df99b2265b",
   "metadata": {},
   "outputs": [
    {
     "data": {
      "text/html": [
       "<div>\n",
       "<style scoped>\n",
       "    .dataframe tbody tr th:only-of-type {\n",
       "        vertical-align: middle;\n",
       "    }\n",
       "\n",
       "    .dataframe tbody tr th {\n",
       "        vertical-align: top;\n",
       "    }\n",
       "\n",
       "    .dataframe thead th {\n",
       "        text-align: right;\n",
       "    }\n",
       "</style>\n",
       "<table border=\"1\" class=\"dataframe\">\n",
       "  <thead>\n",
       "    <tr style=\"text-align: right;\">\n",
       "      <th></th>\n",
       "      <th>all</th>\n",
       "      <th>spam</th>\n",
       "      <th>ham</th>\n",
       "      <th>p_spam</th>\n",
       "      <th>p_ham</th>\n",
       "    </tr>\n",
       "  </thead>\n",
       "  <tbody>\n",
       "    <tr>\n",
       "      <th>'</th>\n",
       "      <td>19</td>\n",
       "      <td>6</td>\n",
       "      <td>13</td>\n",
       "      <td>0.315789</td>\n",
       "      <td>0.684211</td>\n",
       "    </tr>\n",
       "    <tr>\n",
       "      <th>''</th>\n",
       "      <td>19</td>\n",
       "      <td>0</td>\n",
       "      <td>19</td>\n",
       "      <td>0.000000</td>\n",
       "      <td>1.000000</td>\n",
       "    </tr>\n",
       "    <tr>\n",
       "      <th>''''</th>\n",
       "      <td>5</td>\n",
       "      <td>0</td>\n",
       "      <td>5</td>\n",
       "      <td>0.000000</td>\n",
       "      <td>1.000000</td>\n",
       "    </tr>\n",
       "    <tr>\n",
       "      <th>'aangalyam</th>\n",
       "      <td>2</td>\n",
       "      <td>0</td>\n",
       "      <td>2</td>\n",
       "      <td>0.000000</td>\n",
       "      <td>1.000000</td>\n",
       "    </tr>\n",
       "    <tr>\n",
       "      <th>'anything'</th>\n",
       "      <td>1</td>\n",
       "      <td>0</td>\n",
       "      <td>1</td>\n",
       "      <td>0.000000</td>\n",
       "      <td>1.000000</td>\n",
       "    </tr>\n",
       "    <tr>\n",
       "      <th>...</th>\n",
       "      <td>...</td>\n",
       "      <td>...</td>\n",
       "      <td>...</td>\n",
       "      <td>...</td>\n",
       "      <td>...</td>\n",
       "    </tr>\n",
       "    <tr>\n",
       "      <th>zeros</th>\n",
       "      <td>1</td>\n",
       "      <td>0</td>\n",
       "      <td>1</td>\n",
       "      <td>0.000000</td>\n",
       "      <td>1.000000</td>\n",
       "    </tr>\n",
       "    <tr>\n",
       "      <th>zhong</th>\n",
       "      <td>1</td>\n",
       "      <td>0</td>\n",
       "      <td>1</td>\n",
       "      <td>0.000000</td>\n",
       "      <td>1.000000</td>\n",
       "    </tr>\n",
       "    <tr>\n",
       "      <th>zoom</th>\n",
       "      <td>1</td>\n",
       "      <td>0</td>\n",
       "      <td>1</td>\n",
       "      <td>0.000000</td>\n",
       "      <td>1.000000</td>\n",
       "    </tr>\n",
       "    <tr>\n",
       "      <th>zyada</th>\n",
       "      <td>1</td>\n",
       "      <td>0</td>\n",
       "      <td>1</td>\n",
       "      <td>0.000000</td>\n",
       "      <td>1.000000</td>\n",
       "    </tr>\n",
       "    <tr>\n",
       "      <th>zzit</th>\n",
       "      <td>3</td>\n",
       "      <td>0</td>\n",
       "      <td>3</td>\n",
       "      <td>0.000000</td>\n",
       "      <td>1.000000</td>\n",
       "    </tr>\n",
       "  </tbody>\n",
       "</table>\n",
       "<p>9620 rows × 5 columns</p>\n",
       "</div>"
      ],
      "text/plain": [
       "            all  spam  ham    p_spam     p_ham\n",
       "'            19     6   13  0.315789  0.684211\n",
       "''           19     0   19  0.000000  1.000000\n",
       "''''          5     0    5  0.000000  1.000000\n",
       "'aangalyam    2     0    2  0.000000  1.000000\n",
       "'anything'    1     0    1  0.000000  1.000000\n",
       "...         ...   ...  ...       ...       ...\n",
       "zeros         1     0    1  0.000000  1.000000\n",
       "zhong         1     0    1  0.000000  1.000000\n",
       "zoom          1     0    1  0.000000  1.000000\n",
       "zyada         1     0    1  0.000000  1.000000\n",
       "zzit          3     0    3  0.000000  1.000000\n",
       "\n",
       "[9620 rows x 5 columns]"
      ]
     },
     "execution_count": 19,
     "metadata": {},
     "output_type": "execute_result"
    }
   ],
   "source": [
    "word_counts.assign(p_spam=word_counts.spam / word_counts['all'],p_ham=word_counts.ham / word_counts['all'])\n"
   ]
  },
  {
   "cell_type": "markdown",
   "id": "441fce42-8d32-49ad-a25d-72672c9f03e1",
   "metadata": {},
   "source": [
    "### 1b. \n",
    "- Create and explore bigrams for the spam data. Visualize them with a word cloud. How do they compare with the ham bigrams?"
   ]
  },
  {
   "cell_type": "code",
   "execution_count": 22,
   "id": "c4c371dc-09a9-45d5-b0aa-4d68152c646d",
   "metadata": {},
   "outputs": [
    {
     "data": {
      "text/html": [
       "<div>\n",
       "<style scoped>\n",
       "    .dataframe tbody tr th:only-of-type {\n",
       "        vertical-align: middle;\n",
       "    }\n",
       "\n",
       "    .dataframe tbody tr th {\n",
       "        vertical-align: top;\n",
       "    }\n",
       "\n",
       "    .dataframe thead th {\n",
       "        text-align: right;\n",
       "    }\n",
       "</style>\n",
       "<table border=\"1\" class=\"dataframe\">\n",
       "  <thead>\n",
       "    <tr style=\"text-align: right;\">\n",
       "      <th></th>\n",
       "      <th>label</th>\n",
       "      <th>text</th>\n",
       "      <th>bigram</th>\n",
       "    </tr>\n",
       "    <tr>\n",
       "      <th>id</th>\n",
       "      <th></th>\n",
       "      <th></th>\n",
       "      <th></th>\n",
       "    </tr>\n",
       "  </thead>\n",
       "  <tbody>\n",
       "    <tr>\n",
       "      <th>0</th>\n",
       "      <td>ham</td>\n",
       "      <td>jurong point crazy vailable bugis n great worl...</td>\n",
       "      <td>[(jurong, point), (point, crazy), (crazy, vail...</td>\n",
       "    </tr>\n",
       "    <tr>\n",
       "      <th>1</th>\n",
       "      <td>ham</td>\n",
       "      <td>k lar oking wif u oni</td>\n",
       "      <td>[(k, lar), (lar, oking), (oking, wif), (wif, u...</td>\n",
       "    </tr>\n",
       "    <tr>\n",
       "      <th>2</th>\n",
       "      <td>spam</td>\n",
       "      <td>ree entry 2 wkly comp win final tkts 21st ay 2...</td>\n",
       "      <td>[(ree, entry), (entry, 2), (2, wkly), (wkly, c...</td>\n",
       "    </tr>\n",
       "    <tr>\n",
       "      <th>3</th>\n",
       "      <td>ham</td>\n",
       "      <td>dun say early hor c already say</td>\n",
       "      <td>[(dun, say), (say, early), (early, hor), (hor,...</td>\n",
       "    </tr>\n",
       "    <tr>\n",
       "      <th>4</th>\n",
       "      <td>ham</td>\n",
       "      <td>ah think goes usf lives around though</td>\n",
       "      <td>[(ah, think), (think, goes), (goes, usf), (usf...</td>\n",
       "    </tr>\n",
       "  </tbody>\n",
       "</table>\n",
       "</div>"
      ],
      "text/plain": [
       "   label                                               text  \\\n",
       "id                                                            \n",
       "0    ham  jurong point crazy vailable bugis n great worl...   \n",
       "1    ham                              k lar oking wif u oni   \n",
       "2   spam  ree entry 2 wkly comp win final tkts 21st ay 2...   \n",
       "3    ham                    dun say early hor c already say   \n",
       "4    ham              ah think goes usf lives around though   \n",
       "\n",
       "                                               bigram  \n",
       "id                                                     \n",
       "0   [(jurong, point), (point, crazy), (crazy, vail...  \n",
       "1   [(k, lar), (lar, oking), (oking, wif), (wif, u...  \n",
       "2   [(ree, entry), (entry, 2), (2, wkly), (wkly, c...  \n",
       "3   [(dun, say), (say, early), (early, hor), (hor,...  \n",
       "4   [(ah, think), (think, goes), (goes, usf), (usf...  "
      ]
     },
     "execution_count": 22,
     "metadata": {},
     "output_type": "execute_result"
    }
   ],
   "source": [
    "df['bigram'] = [list(nltk.bigrams(text.split())) for text in df.text]\n",
    "df.head()"
   ]
  },
  {
   "cell_type": "code",
   "execution_count": 24,
   "id": "430e19c1-25e6-4cd5-b21e-9f0b8434ccfe",
   "metadata": {},
   "outputs": [
    {
     "data": {
      "text/plain": [
       "'jurong point crazy vailable bugis n great world la e buffet ine got amore wat'"
      ]
     },
     "execution_count": 24,
     "metadata": {},
     "output_type": "execute_result"
    }
   ],
   "source": [
    "from wordcloud import WordCloud\n",
    "text_one = df.text[0]\n",
    "text_one"
   ]
  },
  {
   "cell_type": "code",
   "execution_count": 25,
   "id": "daf4a26f-56b8-4e1e-9039-b6d1defb9d88",
   "metadata": {},
   "outputs": [
    {
     "data": {
      "text/plain": [
       "(-0.5, 799.5, 599.5, -0.5)"
      ]
     },
     "execution_count": 25,
     "metadata": {},
     "output_type": "execute_result"
    },
    {
     "data": {
      "image/png": "[encoded data removed]",
      "text/plain": [
       "<Figure size 936x504 with 1 Axes>"
      ]
     },
     "metadata": {},
     "output_type": "display_data"
    }
   ],
   "source": [
    "img = WordCloud(background_color='white',width=800, height=600).generate(text_one)\n",
    "plt.imshow(img)\n",
    "plt.axis('off')"
   ]
  },
  {
   "cell_type": "code",
   "execution_count": null,
   "id": "b006d062-b69e-4d37-a24d-ade9b8be3cde",
   "metadata": {},
   "outputs": [],
   "source": []
  },
  {
   "cell_type": "markdown",
   "id": "4427eceb-dd65-4a00-b335-2cba67f043d8",
   "metadata": {},
   "source": [
    "### 1c. \n",
    "- Is there any overlap in the bigrams for the spam data and the ham data?"
   ]
  },
  {
   "cell_type": "code",
   "execution_count": null,
   "id": "daacb705-a5ad-4a81-bdc2-045d2c2a4d5c",
   "metadata": {},
   "outputs": [],
   "source": []
  },
  {
   "cell_type": "markdown",
   "id": "d42b2099-cead-4158-853c-c46da375d19d",
   "metadata": {},
   "source": [
    "### 1d. \n",
    "- Create and explore with trigrams (i.e. a n-gram with an n of 3) for both the spam and ham data."
   ]
  },
  {
   "cell_type": "code",
   "execution_count": null,
   "id": "15c2cde1-269d-4a7c-bcc1-d416e2a19d26",
   "metadata": {},
   "outputs": [],
   "source": []
  },
  {
   "cell_type": "markdown",
   "id": "a8afe0fc-07a7-4c6a-97fd-3de2d4d354a0",
   "metadata": {},
   "source": [
    "## 2. \n",
    "- Explore the blog articles using the techniques discussed in the exploration lesson."
   ]
  },
  {
   "cell_type": "code",
   "execution_count": null,
   "id": "3a3f7b81-f2ae-48d0-a71b-2bc0d1c07f42",
   "metadata": {},
   "outputs": [],
   "source": []
  },
  {
   "cell_type": "markdown",
   "id": "30c7bd2d-7636-4e60-b240-ca86caa281d0",
   "metadata": {},
   "source": [
    "## 3. \n",
    "- Explore the news articles using the techniques discussed in the exploration lesson. Use the category variable when exploring."
   ]
  },
  {
   "cell_type": "code",
   "execution_count": null,
   "id": "e8c15cd6-2835-4f9a-b60e-36ae45edd96a",
   "metadata": {},
   "outputs": [],
   "source": []
  },
  {
   "cell_type": "code",
   "execution_count": null,
   "id": "e0a55cec-8283-4969-ba6d-a858168ee0af",
   "metadata": {},
   "outputs": [],
   "source": []
  }
 ],
 "metadata": {
  "kernelspec": {
   "display_name": "Python 3 (ipykernel)",
   "language": "python",
   "name": "python3"
  },
  "language_info": {
   "codemirror_mode": {
    "name": "ipython",
    "version": 3
   },
   "file_extension": ".py",
   "mimetype": "text/x-python",
   "name": "python",
   "nbconvert_exporter": "python",
   "pygments_lexer": "ipython3",
   "version": "3.9.7"
  }
 },
 "nbformat": 4,
 "nbformat_minor": 5
}
