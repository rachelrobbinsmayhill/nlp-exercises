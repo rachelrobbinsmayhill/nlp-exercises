{
 "cells": [
  {
   "cell_type": "markdown",
   "id": "f4b5037e-e9a1-42f9-94df-a53f286cdb63",
   "metadata": {},
   "source": [
    "# Acquire Web Scraping Lesson Practice "
   ]
  },
  {
   "cell_type": "code",
   "execution_count": 1,
   "id": "de2e9c01-0fb9-4d49-bb7a-e991c62da742",
   "metadata": {},
   "outputs": [],
   "source": [
    "from requests import get\n",
    "from bs4 import BeautifulSoup\n",
    "import os\n",
    "import pandas as pd"
   ]
  },
  {
   "cell_type": "code",
   "execution_count": 2,
   "id": "c3a0ecfb-a82d-43f3-9a9a-86655de81a2d",
   "metadata": {},
   "outputs": [
    {
     "data": {
      "text/plain": [
       "<Response [200]>"
      ]
     },
     "execution_count": 2,
     "metadata": {},
     "output_type": "execute_result"
    }
   ],
   "source": [
    "url = 'https://web-scraping-demo.zgulde.net/people'\n",
    "response = get(url)\n",
    "response"
   ]
  },
  {
   "cell_type": "code",
   "execution_count": 3,
   "id": "0c196ab7-de6b-4f34-bc32-7b13a0ccc54f",
   "metadata": {},
   "outputs": [
    {
     "name": "stdout",
     "output_type": "stream",
     "text": [
      "<!DOCTYPE html>\n",
      "<html lang=\"en\">\n",
      "<head>\n",
      "    <meta charset=\"UTF-8\">\n",
      "    <meta http-equiv=\"X-UA-Compatible\" content=\"IE=edge\">\n",
      "    <meta name=\"viewport\" content=\"width=device-width, initial-scale=1.0\">\n",
      "    <title>Example People Page</title>\n",
      "    <link href=\"https://unpkg.com/tailwindcss@^2/dist/tailwind.min.css\" rel=\"stylesheet\" />\n",
      "    <link rel=\"stylesheet\" href=\"https://cdn.jsdelivr.net/npm/bootstr\n"
     ]
    }
   ],
   "source": [
    "print(response.text[:400])"
   ]
  },
  {
   "cell_type": "code",
   "execution_count": 4,
   "id": "218e0517-5571-4baf-9603-aa4c0df9ed0e",
   "metadata": {},
   "outputs": [],
   "source": [
    "# Make a soup variable holding the response content\n",
    "soup = BeautifulSoup(response.text, 'html.parser')"
   ]
  },
  {
   "cell_type": "code",
   "execution_count": 5,
   "id": "9dc2d8e4-9787-4a10-bc24-d28ab233bbad",
   "metadata": {},
   "outputs": [],
   "source": [
    "contacts = soup.select('div.person')"
   ]
  },
  {
   "cell_type": "code",
   "execution_count": 6,
   "id": "ba41527c-754c-49d6-99dc-86c90181f241",
   "metadata": {},
   "outputs": [
    {
     "data": {
      "text/plain": [
       "<div class=\"person border rounded px-3 py-5 grid grid-cols-2 gap-x-3 bg-purple-50 hover:shadow-lg transition duration-500\">\n",
       "<h2 class=\"text-2xl text-purple-800 name col-span-full border-b\">Jessica Harris</h2>\n",
       "<p class=\"quote col-span-full px-5 py-5 text-center text-gray-500\">\n",
       "            \"Grass-roots mission-critical intranet\"\n",
       "        </p>\n",
       "<div class=\"grid grid-cols-9\">\n",
       "<i class=\"bi bi-envelope-fill text-purple-800\"></i>\n",
       "<p class=\"email col-span-8\">christine33@yahoo.com</p>\n",
       "<i class=\"bi bi-telephone-fill text-purple-800\"></i>\n",
       "<p class=\"phone col-span-8\">(313)984-2192x094</p>\n",
       "</div>\n",
       "<div class=\"address grid grid-cols-9\">\n",
       "<i class=\"bi bi-geo-fill text-purple-800\"></i>\n",
       "<p class=\"col-span-8\">\n",
       "                96092 Ball Club <br/>\n",
       "                Murphytown, AR 38145\n",
       "            </p>\n",
       "</div>\n",
       "</div>"
      ]
     },
     "execution_count": 6,
     "metadata": {},
     "output_type": "execute_result"
    }
   ],
   "source": [
    "contact = contacts[1]\n",
    "contact"
   ]
  },
  {
   "cell_type": "code",
   "execution_count": 9,
   "id": "0f2273fc-4328-4581-89ba-162919f3b8db",
   "metadata": {},
   "outputs": [],
   "source": [
    "def parse_personal_contact(contact):\n",
    "    output = {}\n",
    "    output['name'] = contact.find('h2').text\n",
    "    output['quote'], output['email'], output['phone'], output['address'] = [p.text for p in contact.find_all('p')]\n",
    "    return output"
   ]
  },
  {
   "cell_type": "code",
   "execution_count": 10,
   "id": "f6682147-98b7-425e-911d-8ba96db6246b",
   "metadata": {},
   "outputs": [
    {
     "data": {
      "text/html": [
       "<div>\n",
       "<style scoped>\n",
       "    .dataframe tbody tr th:only-of-type {\n",
       "        vertical-align: middle;\n",
       "    }\n",
       "\n",
       "    .dataframe tbody tr th {\n",
       "        vertical-align: top;\n",
       "    }\n",
       "\n",
       "    .dataframe thead th {\n",
       "        text-align: right;\n",
       "    }\n",
       "</style>\n",
       "<table border=\"1\" class=\"dataframe\">\n",
       "  <thead>\n",
       "    <tr style=\"text-align: right;\">\n",
       "      <th></th>\n",
       "      <th>name</th>\n",
       "      <th>quote</th>\n",
       "      <th>email</th>\n",
       "      <th>phone</th>\n",
       "      <th>address</th>\n",
       "    </tr>\n",
       "  </thead>\n",
       "  <tbody>\n",
       "    <tr>\n",
       "      <th>0</th>\n",
       "      <td>Jocelyn Robinson</td>\n",
       "      <td>\\n            \"Proactive 4thgeneration success...</td>\n",
       "      <td>ramirezjordan@armstrong.org</td>\n",
       "      <td>064.258.4169</td>\n",
       "      <td>\\n                826 Jessica Burg Suite 538 \\...</td>\n",
       "    </tr>\n",
       "    <tr>\n",
       "      <th>1</th>\n",
       "      <td>Jessica Harris</td>\n",
       "      <td>\\n            \"Grass-roots mission-critical in...</td>\n",
       "      <td>christine33@yahoo.com</td>\n",
       "      <td>(313)984-2192x094</td>\n",
       "      <td>\\n                96092 Ball Club \\n          ...</td>\n",
       "    </tr>\n",
       "    <tr>\n",
       "      <th>2</th>\n",
       "      <td>Dustin Velasquez</td>\n",
       "      <td>\\n            \"Multi-channeled needs-based ins...</td>\n",
       "      <td>christy90@yahoo.com</td>\n",
       "      <td>073-871-2072x59447</td>\n",
       "      <td>\\n                8655 Jackson Alley \\n       ...</td>\n",
       "    </tr>\n",
       "    <tr>\n",
       "      <th>3</th>\n",
       "      <td>Christine Bishop</td>\n",
       "      <td>\\n            \"Cloned non-volatile customer lo...</td>\n",
       "      <td>thomassandoval@white-jordan.com</td>\n",
       "      <td>592-927-8820</td>\n",
       "      <td>\\n                37680 Selena Street Apt. 941...</td>\n",
       "    </tr>\n",
       "    <tr>\n",
       "      <th>4</th>\n",
       "      <td>Kenneth Walker</td>\n",
       "      <td>\\n            \"Face-to-face object-oriented ar...</td>\n",
       "      <td>millerronald@yahoo.com</td>\n",
       "      <td>3630234207</td>\n",
       "      <td>\\n                387 Hughes Ranch Apt. 951 \\n...</td>\n",
       "    </tr>\n",
       "    <tr>\n",
       "      <th>5</th>\n",
       "      <td>Jessica Butler</td>\n",
       "      <td>\\n            \"Synchronized system-worthy para...</td>\n",
       "      <td>amy37@yahoo.com</td>\n",
       "      <td>082.284.2952x7627</td>\n",
       "      <td>\\n                896 Matthew Trafficway Apt. ...</td>\n",
       "    </tr>\n",
       "    <tr>\n",
       "      <th>6</th>\n",
       "      <td>Kristi Mejia</td>\n",
       "      <td>\\n            \"Stand-alone bottom-line emulati...</td>\n",
       "      <td>gordonmolly@gmail.com</td>\n",
       "      <td>(175)873-2953</td>\n",
       "      <td>\\n                801 Robert Orchard \\n       ...</td>\n",
       "    </tr>\n",
       "    <tr>\n",
       "      <th>7</th>\n",
       "      <td>Stacey Ross</td>\n",
       "      <td>\\n            \"Persevering web-enabled solutio...</td>\n",
       "      <td>kschneider@gmail.com</td>\n",
       "      <td>581-052-8880</td>\n",
       "      <td>\\n                825 Kane Light \\n           ...</td>\n",
       "    </tr>\n",
       "    <tr>\n",
       "      <th>8</th>\n",
       "      <td>Jared Brooks</td>\n",
       "      <td>\\n            \"Virtual bifurcated forecast\"\\n ...</td>\n",
       "      <td>vangbecky@smith-larson.com</td>\n",
       "      <td>001-892-487-2084x953</td>\n",
       "      <td>\\n                048 Cunningham Bypass \\n    ...</td>\n",
       "    </tr>\n",
       "    <tr>\n",
       "      <th>9</th>\n",
       "      <td>James Byrd</td>\n",
       "      <td>\\n            \"Diverse holistic Graphical User...</td>\n",
       "      <td>justin28@yahoo.com</td>\n",
       "      <td>983.793.2585</td>\n",
       "      <td>\\n                21656 Christine Plain \\n    ...</td>\n",
       "    </tr>\n",
       "  </tbody>\n",
       "</table>\n",
       "</div>"
      ],
      "text/plain": [
       "               name                                              quote  \\\n",
       "0  Jocelyn Robinson  \\n            \"Proactive 4thgeneration success...   \n",
       "1    Jessica Harris  \\n            \"Grass-roots mission-critical in...   \n",
       "2  Dustin Velasquez  \\n            \"Multi-channeled needs-based ins...   \n",
       "3  Christine Bishop  \\n            \"Cloned non-volatile customer lo...   \n",
       "4    Kenneth Walker  \\n            \"Face-to-face object-oriented ar...   \n",
       "5    Jessica Butler  \\n            \"Synchronized system-worthy para...   \n",
       "6      Kristi Mejia  \\n            \"Stand-alone bottom-line emulati...   \n",
       "7       Stacey Ross  \\n            \"Persevering web-enabled solutio...   \n",
       "8      Jared Brooks  \\n            \"Virtual bifurcated forecast\"\\n ...   \n",
       "9        James Byrd  \\n            \"Diverse holistic Graphical User...   \n",
       "\n",
       "                             email                 phone  \\\n",
       "0      ramirezjordan@armstrong.org          064.258.4169   \n",
       "1            christine33@yahoo.com     (313)984-2192x094   \n",
       "2              christy90@yahoo.com    073-871-2072x59447   \n",
       "3  thomassandoval@white-jordan.com          592-927-8820   \n",
       "4           millerronald@yahoo.com            3630234207   \n",
       "5                  amy37@yahoo.com     082.284.2952x7627   \n",
       "6            gordonmolly@gmail.com         (175)873-2953   \n",
       "7             kschneider@gmail.com          581-052-8880   \n",
       "8       vangbecky@smith-larson.com  001-892-487-2084x953   \n",
       "9               justin28@yahoo.com          983.793.2585   \n",
       "\n",
       "                                             address  \n",
       "0  \\n                826 Jessica Burg Suite 538 \\...  \n",
       "1  \\n                96092 Ball Club \\n          ...  \n",
       "2  \\n                8655 Jackson Alley \\n       ...  \n",
       "3  \\n                37680 Selena Street Apt. 941...  \n",
       "4  \\n                387 Hughes Ranch Apt. 951 \\n...  \n",
       "5  \\n                896 Matthew Trafficway Apt. ...  \n",
       "6  \\n                801 Robert Orchard \\n       ...  \n",
       "7  \\n                825 Kane Light \\n           ...  \n",
       "8  \\n                048 Cunningham Bypass \\n    ...  \n",
       "9  \\n                21656 Christine Plain \\n    ...  "
      ]
     },
     "execution_count": 10,
     "metadata": {},
     "output_type": "execute_result"
    }
   ],
   "source": [
    "pd.DataFrame([parse_personal_contact(contact) for contact in contacts])"
   ]
  },
  {
   "cell_type": "code",
   "execution_count": null,
   "id": "773526d3-063e-4e97-b2f9-2b55a222c64a",
   "metadata": {},
   "outputs": [],
   "source": []
  }
 ],
 "metadata": {
  "kernelspec": {
   "display_name": "Python 3 (ipykernel)",
   "language": "python",
   "name": "python3"
  },
  "language_info": {
   "codemirror_mode": {
    "name": "ipython",
    "version": 3
   },
   "file_extension": ".py",
   "mimetype": "text/x-python",
   "name": "python",
   "nbconvert_exporter": "python",
   "pygments_lexer": "ipython3",
   "version": "3.9.7"
  }
 },
 "nbformat": 4,
 "nbformat_minor": 5
}
