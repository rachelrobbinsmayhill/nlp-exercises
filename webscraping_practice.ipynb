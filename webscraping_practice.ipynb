{
 "cells": [
  {
   "cell_type": "markdown",
   "id": "f4b5037e-e9a1-42f9-94df-a53f286cdb63",
   "metadata": {},
   "source": [
    "# Acquire Web Scraping Lesson Practice "
   ]
  },
  {
   "cell_type": "code",
   "execution_count": 12,
   "id": "de2e9c01-0fb9-4d49-bb7a-e991c62da742",
   "metadata": {},
   "outputs": [],
   "source": [
    "from requests import get\n",
    "from bs4 import BeautifulSoup\n",
    "import os\n",
    "import pandas as pd"
   ]
  },
  {
   "cell_type": "code",
   "execution_count": 13,
   "id": "c3a0ecfb-a82d-43f3-9a9a-86655de81a2d",
   "metadata": {},
   "outputs": [
    {
     "data": {
      "text/plain": [
       "<Response [200]>"
      ]
     },
     "execution_count": 13,
     "metadata": {},
     "output_type": "execute_result"
    }
   ],
   "source": [
    "url = 'https://web-scraping-demo.zgulde.net/people'\n",
    "response = get(url)\n",
    "response"
   ]
  },
  {
   "cell_type": "code",
   "execution_count": 14,
   "id": "0c196ab7-de6b-4f34-bc32-7b13a0ccc54f",
   "metadata": {},
   "outputs": [
    {
     "name": "stdout",
     "output_type": "stream",
     "text": [
      "<!DOCTYPE html>\n",
      "<html lang=\"en\">\n",
      "<head>\n",
      "    <meta charset=\"UTF-8\">\n",
      "    <meta http-equiv=\"X-UA-Compatible\" content=\"IE=edge\">\n",
      "    <meta name=\"viewport\" content=\"width=device-width, initial-scale=1.0\">\n",
      "    <title>Example People Page</title>\n",
      "    <link href=\"https://unpkg.com/tailwindcss@^2/dist/tailwind.min.css\" rel=\"stylesheet\" />\n",
      "    <link rel=\"stylesheet\" href=\"https://cdn.jsdelivr.net/npm/bootstr\n"
     ]
    }
   ],
   "source": [
    "print(response.text[:400])"
   ]
  },
  {
   "cell_type": "code",
   "execution_count": 15,
   "id": "218e0517-5571-4baf-9603-aa4c0df9ed0e",
   "metadata": {},
   "outputs": [],
   "source": [
    "# Make a soup variable holding the response content\n",
    "soup = BeautifulSoup(response.text, 'html.parser')"
   ]
  },
  {
   "cell_type": "code",
   "execution_count": 16,
   "id": "9dc2d8e4-9787-4a10-bc24-d28ab233bbad",
   "metadata": {},
   "outputs": [],
   "source": [
    "contacts = soup.select('div.person')"
   ]
  },
  {
   "cell_type": "code",
   "execution_count": 17,
   "id": "ba41527c-754c-49d6-99dc-86c90181f241",
   "metadata": {},
   "outputs": [
    {
     "data": {
      "text/plain": [
       "<div class=\"person border rounded px-3 py-5 grid grid-cols-2 gap-x-3 bg-purple-50 hover:shadow-lg transition duration-500\">\n",
       "<h2 class=\"text-2xl text-purple-800 name col-span-full border-b\">Tracey Lopez</h2>\n",
       "<p class=\"quote col-span-full px-5 py-5 text-center text-gray-500\">\n",
       "            \"Operative 3rdgeneration solution\"\n",
       "        </p>\n",
       "<div class=\"grid grid-cols-9\">\n",
       "<i class=\"bi bi-envelope-fill text-purple-800\"></i>\n",
       "<p class=\"email col-span-8\">vincentvincent@anderson.com</p>\n",
       "<i class=\"bi bi-telephone-fill text-purple-800\"></i>\n",
       "<p class=\"phone col-span-8\">(674)906-0917x53854</p>\n",
       "</div>\n",
       "<div class=\"address grid grid-cols-9\">\n",
       "<i class=\"bi bi-geo-fill text-purple-800\"></i>\n",
       "<p class=\"col-span-8\">\n",
       "                4606 Tara Shore <br/>\n",
       "                Juanmouth, OK 42842\n",
       "            </p>\n",
       "</div>\n",
       "</div>"
      ]
     },
     "execution_count": 17,
     "metadata": {},
     "output_type": "execute_result"
    }
   ],
   "source": [
    "contact = contacts[1]\n",
    "contact"
   ]
  },
  {
   "cell_type": "code",
   "execution_count": 22,
   "id": "eabc0f67-a66f-469e-bcf0-7b7d6a1be990",
   "metadata": {},
   "outputs": [
    {
     "data": {
      "text/plain": [
       "'\"Operative 3rdgeneration solution\"'"
      ]
     },
     "execution_count": 22,
     "metadata": {},
     "output_type": "execute_result"
    }
   ],
   "source": [
    "quote = contact.select('.quote')[0].text.strip()\n",
    "quote"
   ]
  },
  {
   "cell_type": "code",
   "execution_count": 29,
   "id": "112e993b-f2f9-403b-a47e-0dd7d8766bc4",
   "metadata": {},
   "outputs": [],
   "source": [
    "def parse_personal_contact_option_one(contact):\n",
    "    output = {}\n",
    "    output['name'] = contact.find('h2').text\n",
    "    output['quote'], output['email'], output['phone'], output['address'] = [p.text for p in contact.find_all('p')]\n",
    "    return output"
   ]
  },
  {
   "cell_type": "code",
   "execution_count": 30,
   "id": "85f44cd5-0c71-4295-aa6d-c388b2dbea11",
   "metadata": {},
   "outputs": [
    {
     "data": {
      "text/html": [
       "<div>\n",
       "<style scoped>\n",
       "    .dataframe tbody tr th:only-of-type {\n",
       "        vertical-align: middle;\n",
       "    }\n",
       "\n",
       "    .dataframe tbody tr th {\n",
       "        vertical-align: top;\n",
       "    }\n",
       "\n",
       "    .dataframe thead th {\n",
       "        text-align: right;\n",
       "    }\n",
       "</style>\n",
       "<table border=\"1\" class=\"dataframe\">\n",
       "  <thead>\n",
       "    <tr style=\"text-align: right;\">\n",
       "      <th></th>\n",
       "      <th>name</th>\n",
       "      <th>quote</th>\n",
       "      <th>email</th>\n",
       "      <th>phone</th>\n",
       "      <th>address</th>\n",
       "    </tr>\n",
       "  </thead>\n",
       "  <tbody>\n",
       "    <tr>\n",
       "      <th>0</th>\n",
       "      <td>Willie Baldwin</td>\n",
       "      <td>\\n            \"Horizontal value-added structur...</td>\n",
       "      <td>brent49@hotmail.com</td>\n",
       "      <td>028-315-5095</td>\n",
       "      <td>\\n                47049 Anderson Courts Suite ...</td>\n",
       "    </tr>\n",
       "    <tr>\n",
       "      <th>1</th>\n",
       "      <td>Tracey Lopez</td>\n",
       "      <td>\\n            \"Operative 3rdgeneration solutio...</td>\n",
       "      <td>vincentvincent@anderson.com</td>\n",
       "      <td>(674)906-0917x53854</td>\n",
       "      <td>\\n                4606 Tara Shore \\n          ...</td>\n",
       "    </tr>\n",
       "    <tr>\n",
       "      <th>2</th>\n",
       "      <td>Nancy Foster</td>\n",
       "      <td>\\n            \"Persevering clear-thinking capa...</td>\n",
       "      <td>hayesdonna@yahoo.com</td>\n",
       "      <td>+1-068-618-5661x145</td>\n",
       "      <td>\\n                7928 Willie Road \\n         ...</td>\n",
       "    </tr>\n",
       "    <tr>\n",
       "      <th>3</th>\n",
       "      <td>Julie Davidson</td>\n",
       "      <td>\\n            \"Synergized value-added producti...</td>\n",
       "      <td>walvarado@hahn-jones.com</td>\n",
       "      <td>(805)308-4822</td>\n",
       "      <td>\\n                87886 Woods Pike \\n         ...</td>\n",
       "    </tr>\n",
       "    <tr>\n",
       "      <th>4</th>\n",
       "      <td>Anna Bird</td>\n",
       "      <td>\\n            \"Re-contextualized neutral succe...</td>\n",
       "      <td>gina24@chavez.com</td>\n",
       "      <td>+1-723-206-8642</td>\n",
       "      <td>\\n                6514 Cole Junction \\n       ...</td>\n",
       "    </tr>\n",
       "    <tr>\n",
       "      <th>5</th>\n",
       "      <td>Kevin Evans</td>\n",
       "      <td>\\n            \"Multi-layered holistic synergy\"...</td>\n",
       "      <td>marklynn@watson.com</td>\n",
       "      <td>692-110-7194x6265</td>\n",
       "      <td>\\n                179 Stevens Plains Apt. 129 ...</td>\n",
       "    </tr>\n",
       "    <tr>\n",
       "      <th>6</th>\n",
       "      <td>Anne Macdonald</td>\n",
       "      <td>\\n            \"Phased asynchronous function\"\\n...</td>\n",
       "      <td>lsharp@yahoo.com</td>\n",
       "      <td>718-095-7214x57191</td>\n",
       "      <td>\\n                674 Bryan Mills Apt. 482 \\n ...</td>\n",
       "    </tr>\n",
       "    <tr>\n",
       "      <th>7</th>\n",
       "      <td>Thomas Flores</td>\n",
       "      <td>\\n            \"Diverse local firmware\"\\n</td>\n",
       "      <td>ibaker@mejia.com</td>\n",
       "      <td>359-511-1900x8792</td>\n",
       "      <td>\\n                83345 Jones Valley Apt. 810 ...</td>\n",
       "    </tr>\n",
       "    <tr>\n",
       "      <th>8</th>\n",
       "      <td>Michael Kim</td>\n",
       "      <td>\\n            \"Cross-group grid-enabled servic...</td>\n",
       "      <td>michael28@hotmail.com</td>\n",
       "      <td>202.329.4470</td>\n",
       "      <td>\\n                982 Karen Neck \\n           ...</td>\n",
       "    </tr>\n",
       "    <tr>\n",
       "      <th>9</th>\n",
       "      <td>Ernest Bailey</td>\n",
       "      <td>\\n            \"Inverse high-level forecast\"\\n ...</td>\n",
       "      <td>mary77@yahoo.com</td>\n",
       "      <td>947.987.0259x1442</td>\n",
       "      <td>\\n                15154 Philip Manor \\n       ...</td>\n",
       "    </tr>\n",
       "  </tbody>\n",
       "</table>\n",
       "</div>"
      ],
      "text/plain": [
       "             name                                              quote  \\\n",
       "0  Willie Baldwin  \\n            \"Horizontal value-added structur...   \n",
       "1    Tracey Lopez  \\n            \"Operative 3rdgeneration solutio...   \n",
       "2    Nancy Foster  \\n            \"Persevering clear-thinking capa...   \n",
       "3  Julie Davidson  \\n            \"Synergized value-added producti...   \n",
       "4       Anna Bird  \\n            \"Re-contextualized neutral succe...   \n",
       "5     Kevin Evans  \\n            \"Multi-layered holistic synergy\"...   \n",
       "6  Anne Macdonald  \\n            \"Phased asynchronous function\"\\n...   \n",
       "7   Thomas Flores   \\n            \"Diverse local firmware\"\\n           \n",
       "8     Michael Kim  \\n            \"Cross-group grid-enabled servic...   \n",
       "9   Ernest Bailey  \\n            \"Inverse high-level forecast\"\\n ...   \n",
       "\n",
       "                         email                phone  \\\n",
       "0          brent49@hotmail.com         028-315-5095   \n",
       "1  vincentvincent@anderson.com  (674)906-0917x53854   \n",
       "2         hayesdonna@yahoo.com  +1-068-618-5661x145   \n",
       "3     walvarado@hahn-jones.com        (805)308-4822   \n",
       "4            gina24@chavez.com      +1-723-206-8642   \n",
       "5          marklynn@watson.com    692-110-7194x6265   \n",
       "6             lsharp@yahoo.com   718-095-7214x57191   \n",
       "7             ibaker@mejia.com    359-511-1900x8792   \n",
       "8        michael28@hotmail.com         202.329.4470   \n",
       "9             mary77@yahoo.com    947.987.0259x1442   \n",
       "\n",
       "                                             address  \n",
       "0  \\n                47049 Anderson Courts Suite ...  \n",
       "1  \\n                4606 Tara Shore \\n          ...  \n",
       "2  \\n                7928 Willie Road \\n         ...  \n",
       "3  \\n                87886 Woods Pike \\n         ...  \n",
       "4  \\n                6514 Cole Junction \\n       ...  \n",
       "5  \\n                179 Stevens Plains Apt. 129 ...  \n",
       "6  \\n                674 Bryan Mills Apt. 482 \\n ...  \n",
       "7  \\n                83345 Jones Valley Apt. 810 ...  \n",
       "8  \\n                982 Karen Neck \\n           ...  \n",
       "9  \\n                15154 Philip Manor \\n       ...  "
      ]
     },
     "execution_count": 30,
     "metadata": {},
     "output_type": "execute_result"
    }
   ],
   "source": [
    "pd.DataFrame([parse_personal_contact_option_one(contact) for contact in contacts])"
   ]
  },
  {
   "cell_type": "code",
   "execution_count": 31,
   "id": "0f2273fc-4328-4581-89ba-162919f3b8db",
   "metadata": {},
   "outputs": [],
   "source": [
    "def parse_personal_contact_option_two(contact):\n",
    "    output = {}\n",
    "    output['name'] = contact.find('h2').text\n",
    "    output['quote'] = contact.select('.quote')[0].text.strip()\n",
    "    output['email_address'] = contact.select_one('.email').text\n",
    "    output['phone'] = contact.select_one('.phone').text\n",
    "    output['address'] = contact.select_one('.address').text.strip()\n",
    "    return output"
   ]
  },
  {
   "cell_type": "code",
   "execution_count": 32,
   "id": "f6682147-98b7-425e-911d-8ba96db6246b",
   "metadata": {},
   "outputs": [
    {
     "data": {
      "text/html": [
       "<div>\n",
       "<style scoped>\n",
       "    .dataframe tbody tr th:only-of-type {\n",
       "        vertical-align: middle;\n",
       "    }\n",
       "\n",
       "    .dataframe tbody tr th {\n",
       "        vertical-align: top;\n",
       "    }\n",
       "\n",
       "    .dataframe thead th {\n",
       "        text-align: right;\n",
       "    }\n",
       "</style>\n",
       "<table border=\"1\" class=\"dataframe\">\n",
       "  <thead>\n",
       "    <tr style=\"text-align: right;\">\n",
       "      <th></th>\n",
       "      <th>name</th>\n",
       "      <th>quote</th>\n",
       "      <th>email_address</th>\n",
       "      <th>phone</th>\n",
       "      <th>address</th>\n",
       "    </tr>\n",
       "  </thead>\n",
       "  <tbody>\n",
       "    <tr>\n",
       "      <th>0</th>\n",
       "      <td>Willie Baldwin</td>\n",
       "      <td>\"Horizontal value-added structure\"</td>\n",
       "      <td>brent49@hotmail.com</td>\n",
       "      <td>028-315-5095</td>\n",
       "      <td>47049 Anderson Courts Suite 710 \\n            ...</td>\n",
       "    </tr>\n",
       "    <tr>\n",
       "      <th>1</th>\n",
       "      <td>Tracey Lopez</td>\n",
       "      <td>\"Operative 3rdgeneration solution\"</td>\n",
       "      <td>vincentvincent@anderson.com</td>\n",
       "      <td>(674)906-0917x53854</td>\n",
       "      <td>4606 Tara Shore \\n                Juanmouth, O...</td>\n",
       "    </tr>\n",
       "    <tr>\n",
       "      <th>2</th>\n",
       "      <td>Nancy Foster</td>\n",
       "      <td>\"Persevering clear-thinking capability\"</td>\n",
       "      <td>hayesdonna@yahoo.com</td>\n",
       "      <td>+1-068-618-5661x145</td>\n",
       "      <td>7928 Willie Road \\n                New Eric, P...</td>\n",
       "    </tr>\n",
       "    <tr>\n",
       "      <th>3</th>\n",
       "      <td>Julie Davidson</td>\n",
       "      <td>\"Synergized value-added productivity\"</td>\n",
       "      <td>walvarado@hahn-jones.com</td>\n",
       "      <td>(805)308-4822</td>\n",
       "      <td>87886 Woods Pike \\n                South Micha...</td>\n",
       "    </tr>\n",
       "    <tr>\n",
       "      <th>4</th>\n",
       "      <td>Anna Bird</td>\n",
       "      <td>\"Re-contextualized neutral success\"</td>\n",
       "      <td>gina24@chavez.com</td>\n",
       "      <td>+1-723-206-8642</td>\n",
       "      <td>6514 Cole Junction \\n                South Kev...</td>\n",
       "    </tr>\n",
       "    <tr>\n",
       "      <th>5</th>\n",
       "      <td>Kevin Evans</td>\n",
       "      <td>\"Multi-layered holistic synergy\"</td>\n",
       "      <td>marklynn@watson.com</td>\n",
       "      <td>692-110-7194x6265</td>\n",
       "      <td>179 Stevens Plains Apt. 129 \\n                ...</td>\n",
       "    </tr>\n",
       "    <tr>\n",
       "      <th>6</th>\n",
       "      <td>Anne Macdonald</td>\n",
       "      <td>\"Phased asynchronous function\"</td>\n",
       "      <td>lsharp@yahoo.com</td>\n",
       "      <td>718-095-7214x57191</td>\n",
       "      <td>674 Bryan Mills Apt. 482 \\n                Sou...</td>\n",
       "    </tr>\n",
       "    <tr>\n",
       "      <th>7</th>\n",
       "      <td>Thomas Flores</td>\n",
       "      <td>\"Diverse local firmware\"</td>\n",
       "      <td>ibaker@mejia.com</td>\n",
       "      <td>359-511-1900x8792</td>\n",
       "      <td>83345 Jones Valley Apt. 810 \\n                ...</td>\n",
       "    </tr>\n",
       "    <tr>\n",
       "      <th>8</th>\n",
       "      <td>Michael Kim</td>\n",
       "      <td>\"Cross-group grid-enabled service-desk\"</td>\n",
       "      <td>michael28@hotmail.com</td>\n",
       "      <td>202.329.4470</td>\n",
       "      <td>982 Karen Neck \\n                East Garytown...</td>\n",
       "    </tr>\n",
       "    <tr>\n",
       "      <th>9</th>\n",
       "      <td>Ernest Bailey</td>\n",
       "      <td>\"Inverse high-level forecast\"</td>\n",
       "      <td>mary77@yahoo.com</td>\n",
       "      <td>947.987.0259x1442</td>\n",
       "      <td>15154 Philip Manor \\n                Lake Chri...</td>\n",
       "    </tr>\n",
       "  </tbody>\n",
       "</table>\n",
       "</div>"
      ],
      "text/plain": [
       "             name                                    quote  \\\n",
       "0  Willie Baldwin       \"Horizontal value-added structure\"   \n",
       "1    Tracey Lopez       \"Operative 3rdgeneration solution\"   \n",
       "2    Nancy Foster  \"Persevering clear-thinking capability\"   \n",
       "3  Julie Davidson    \"Synergized value-added productivity\"   \n",
       "4       Anna Bird      \"Re-contextualized neutral success\"   \n",
       "5     Kevin Evans         \"Multi-layered holistic synergy\"   \n",
       "6  Anne Macdonald           \"Phased asynchronous function\"   \n",
       "7   Thomas Flores                 \"Diverse local firmware\"   \n",
       "8     Michael Kim  \"Cross-group grid-enabled service-desk\"   \n",
       "9   Ernest Bailey            \"Inverse high-level forecast\"   \n",
       "\n",
       "                 email_address                phone  \\\n",
       "0          brent49@hotmail.com         028-315-5095   \n",
       "1  vincentvincent@anderson.com  (674)906-0917x53854   \n",
       "2         hayesdonna@yahoo.com  +1-068-618-5661x145   \n",
       "3     walvarado@hahn-jones.com        (805)308-4822   \n",
       "4            gina24@chavez.com      +1-723-206-8642   \n",
       "5          marklynn@watson.com    692-110-7194x6265   \n",
       "6             lsharp@yahoo.com   718-095-7214x57191   \n",
       "7             ibaker@mejia.com    359-511-1900x8792   \n",
       "8        michael28@hotmail.com         202.329.4470   \n",
       "9             mary77@yahoo.com    947.987.0259x1442   \n",
       "\n",
       "                                             address  \n",
       "0  47049 Anderson Courts Suite 710 \\n            ...  \n",
       "1  4606 Tara Shore \\n                Juanmouth, O...  \n",
       "2  7928 Willie Road \\n                New Eric, P...  \n",
       "3  87886 Woods Pike \\n                South Micha...  \n",
       "4  6514 Cole Junction \\n                South Kev...  \n",
       "5  179 Stevens Plains Apt. 129 \\n                ...  \n",
       "6  674 Bryan Mills Apt. 482 \\n                Sou...  \n",
       "7  83345 Jones Valley Apt. 810 \\n                ...  \n",
       "8  982 Karen Neck \\n                East Garytown...  \n",
       "9  15154 Philip Manor \\n                Lake Chri...  "
      ]
     },
     "execution_count": 32,
     "metadata": {},
     "output_type": "execute_result"
    }
   ],
   "source": [
    "pd.DataFrame([parse_personal_contact_option_two(contact) for contact in contacts])"
   ]
  },
  {
   "cell_type": "code",
   "execution_count": null,
   "id": "e4b284fe-2fde-4c42-997c-cc5e6ba5ccdd",
   "metadata": {},
   "outputs": [],
   "source": []
  }
 ],
 "metadata": {
  "kernelspec": {
   "display_name": "Python 3 (ipykernel)",
   "language": "python",
   "name": "python3"
  },
  "language_info": {
   "codemirror_mode": {
    "name": "ipython",
    "version": 3
   },
   "file_extension": ".py",
   "mimetype": "text/x-python",
   "name": "python",
   "nbconvert_exporter": "python",
   "pygments_lexer": "ipython3",
   "version": "3.9.7"
  }
 },
 "nbformat": 4,
 "nbformat_minor": 5
}
