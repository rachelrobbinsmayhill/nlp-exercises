{
 "cells": [
  {
   "cell_type": "markdown",
   "id": "61e157a4-de83-4e5d-9c73-f484ce0c6eb8",
   "metadata": {},
   "source": [
    "# Regular Expressions (Regex)"
   ]
  },
  {
   "cell_type": "code",
   "execution_count": 1,
   "id": "478f6362-4c9a-402e-8d7f-fd121a75ee63",
   "metadata": {},
   "outputs": [],
   "source": [
    "import re\n",
    "import pandas as pd"
   ]
  },
  {
   "cell_type": "markdown",
   "id": "97e492b0-6487-41f9-aafd-5fc1e77454d9",
   "metadata": {},
   "source": [
    "# 1.\n",
    "- Write a function named is_vowel. \n",
    "    - It should accept a string as input \n",
    "    - and use a regular expression to determine if the passed string is a vowel. \n",
    "    \n",
    "While not explicity mentioned in the lesson, you can treat the result of re.search as a boolean value that indicates whether or not the regular expression matches the given string."
   ]
  },
  {
   "cell_type": "code",
   "execution_count": 2,
   "id": "91195dcb-85aa-4fa7-9ae6-b1b0ad3c397e",
   "metadata": {},
   "outputs": [
    {
     "name": "stdout",
     "output_type": "stream",
     "text": [
      "Exercise 1 is correct.\n"
     ]
    }
   ],
   "source": [
    "def is_vowel(string):\n",
    "    return bool(re.search(r'^[aeiou]$', string, re.IGNORECASE))\n",
    "\n",
    "\n",
    "\n",
    "    \n",
    "assert is_vowel(\"a\") == True\n",
    "assert is_vowel(\"E\") == True\n",
    "assert is_vowel(\"aaa\") == False\n",
    "assert is_vowel(\"aeiou\") == False\n",
    "\n",
    "print(\"Exercise 1 is correct.\")"
   ]
  },
  {
   "cell_type": "markdown",
   "id": "6e9f477b-1cad-4ff0-99f8-707058a61ec3",
   "metadata": {},
   "source": [
    "# 2. \n",
    "- Write a function named is_valid_username \n",
    "    - that accepts a string as input. \n",
    "    - A valid username starts with a lowercase letter, \n",
    "    [a-z]\n",
    "    - and only consists of lowercase letters, numbers, or the _ character \n",
    "    [a-z0-9_]\n",
    "    - It should also be no longer than 32 characters \n",
    "    {,31}\n",
    "    - The function should return either True or False depending on whether the passed string is a valid username."
   ]
  },
  {
   "cell_type": "code",
   "execution_count": 3,
   "id": "f52aa9b9-f54d-46ce-ba01-a09af845d4d8",
   "metadata": {},
   "outputs": [
    {
     "name": "stdout",
     "output_type": "stream",
     "text": [
      "Exercise 2 is correct.\n"
     ]
    }
   ],
   "source": [
    "def is_valid_username(string):\n",
    "    password_pattern= r\"^[a-z][a-z0-9_]{,31}$\"\n",
    "    return bool(re.search(password_pattern, string))\n",
    "\n",
    "\n",
    "assert is_valid_username('aaaaaaaaaaaaaaaaaaaaaaaaaaaaaaaaa') == False\n",
    "assert is_valid_username('codeup') == True\n",
    "assert is_valid_username('Codeup') == False\n",
    "assert is_valid_username('codeup123') == True\n",
    "assert is_valid_username('1codeup') == False\n",
    "\n",
    "print(\"Exercise 2 is correct.\")"
   ]
  },
  {
   "cell_type": "markdown",
   "id": "d5af94f0-678b-4b5b-a159-d132c6e588d5",
   "metadata": {},
   "source": [
    "# 3. \n",
    "- Write a regular expression to capture phone numbers. It should match all of the following:"
   ]
  },
  {
   "cell_type": "markdown",
   "id": "c30dab4c-df7f-4411-8eb7-053c03c33ef5",
   "metadata": {},
   "source": [
    "- (210) 867 5309\n",
    "- +1 210.867.5309\n",
    "- 867-5309\n",
    "- 210-867-5309"
   ]
  },
  {
   "cell_type": "markdown",
   "id": "ac2f859f-295d-40c3-8893-289c7264c263",
   "metadata": {},
   "source": [
    "- Put the subject strings in order of increasing complexity"
   ]
  },
  {
   "cell_type": "code",
   "execution_count": 4,
   "id": "eefd3da9-b1c4-4640-bc74-98b364939980",
   "metadata": {},
   "outputs": [
    {
     "data": {
      "text/plain": [
       "<re.Match object; span=(0, 7), match='8675309'>"
      ]
     },
     "execution_count": 4,
     "metadata": {},
     "output_type": "execute_result"
    }
   ],
   "source": [
    "# Match seven digits with no other characters, do not include parentheses or numbers within them\n",
    "re.search(r\"\\d{7}\", \"8675309\")"
   ]
  },
  {
   "cell_type": "code",
   "execution_count": 5,
   "id": "36577af9-0aba-4d2c-b809-74eb58c9f318",
   "metadata": {},
   "outputs": [
    {
     "data": {
      "text/plain": [
       "<re.Match object; span=(0, 8), match='867-5309'>"
      ]
     },
     "execution_count": 5,
     "metadata": {},
     "output_type": "execute_result"
    }
   ],
   "source": [
    "# Match 3 digits then a hypohen then 4 digits\n",
    "re.search(r\"\\d{3}-\\d{4}\", \"867-5309\")"
   ]
  },
  {
   "cell_type": "code",
   "execution_count": 6,
   "id": "3a540a14-fb47-4649-ad3d-62800718a80b",
   "metadata": {},
   "outputs": [
    {
     "data": {
      "text/plain": [
       "<re.Match object; span=(0, 8), match='867-5309'>"
      ]
     },
     "execution_count": 6,
     "metadata": {},
     "output_type": "execute_result"
    }
   ],
   "source": [
    "# Match 3 digits then a hypohen or a dot then 4 digits\n",
    "re.search(r\"\\d{3}[-.]\\d{4}\", \"867-5309\")"
   ]
  },
  {
   "cell_type": "code",
   "execution_count": 7,
   "id": "ba361bab-9563-4265-9bf3-41e02479f8ca",
   "metadata": {},
   "outputs": [
    {
     "data": {
      "text/plain": [
       "<re.Match object; span=(0, 8), match='867 5309'>"
      ]
     },
     "execution_count": 7,
     "metadata": {},
     "output_type": "execute_result"
    }
   ],
   "source": [
    "# Match 3 digits then a hyphen, dot, or space then 4 digits\n",
    "re.search(r\"\\d{3}[-. ]\\d{4}\", \"867 5309\")"
   ]
  },
  {
   "cell_type": "markdown",
   "id": "79bd730a-7ba7-4f75-b584-57a7f50366b7",
   "metadata": {},
   "source": [
    "Alernative to previous cell"
   ]
  },
  {
   "cell_type": "code",
   "execution_count": 8,
   "id": "ab2848d5-4024-415a-a93b-3039bdb8bf96",
   "metadata": {},
   "outputs": [
    {
     "data": {
      "text/plain": [
       "<re.Match object; span=(0, 7), match='8675309'>"
      ]
     },
     "execution_count": 8,
     "metadata": {},
     "output_type": "execute_result"
    }
   ],
   "source": [
    "# Another approach on the delimiter could be to use \\D for any non-digit\n",
    "re.search(r\"\\d{3}\\D?\\d{4}\", \"8675309\")"
   ]
  },
  {
   "cell_type": "code",
   "execution_count": 9,
   "id": "2c33732b-3e34-4f7b-b217-7e4d95100841",
   "metadata": {},
   "outputs": [
    {
     "data": {
      "text/plain": [
       "<re.Match object; span=(0, 12), match='210-867-5309'>"
      ]
     },
     "execution_count": 9,
     "metadata": {},
     "output_type": "execute_result"
    }
   ],
   "source": [
    "re.search(r\"\\(?\\d{3}\\)?.?\\d{3}.?\\d{4}\", \"210-867-5309\")"
   ]
  },
  {
   "cell_type": "code",
   "execution_count": 10,
   "id": "d9b7f7d8-d31c-42ed-9de2-89f400a64d84",
   "metadata": {},
   "outputs": [
    {
     "data": {
      "text/plain": [
       "<re.Match object; span=(0, 12), match='210.867.5309'>"
      ]
     },
     "execution_count": 10,
     "metadata": {},
     "output_type": "execute_result"
    }
   ],
   "source": [
    "\n",
    "re.search(r\"\\(?\\d{3}\\)?.?\\d{3}.?\\d{4}\", \"210.867.5309\")"
   ]
  },
  {
   "cell_type": "markdown",
   "id": "6b9aa5db-9dbd-4f62-ad95-393c71c97a17",
   "metadata": {},
   "source": [
    "### 3. Alternative Answer"
   ]
  },
  {
   "cell_type": "code",
   "execution_count": 11,
   "id": "1c3d2bd3-2295-4812-a219-9b397a1e1162",
   "metadata": {},
   "outputs": [],
   "source": [
    "phone_regex = re.compile(\n",
    "\"\"\"\n",
    "^\n",
    "(?P<country_code>\\+\\d+)?\n",
    "\\D*?\n",
    "(?P<area_code>\\d{3})?\n",
    "\\D*?\n",
    "(?P<exchange_code>\\d{3})\n",
    "\\D*?\n",
    "(?P<line_number>\\d{4})\n",
    "\"\"\", re.VERBOSE)"
   ]
  },
  {
   "cell_type": "code",
   "execution_count": 12,
   "id": "f86eed3c-ac31-4b48-a4c0-75cb7c19df95",
   "metadata": {},
   "outputs": [
    {
     "data": {
      "text/html": [
       "<div>\n",
       "<style scoped>\n",
       "    .dataframe tbody tr th:only-of-type {\n",
       "        vertical-align: middle;\n",
       "    }\n",
       "\n",
       "    .dataframe tbody tr th {\n",
       "        vertical-align: top;\n",
       "    }\n",
       "\n",
       "    .dataframe thead th {\n",
       "        text-align: right;\n",
       "    }\n",
       "</style>\n",
       "<table border=\"1\" class=\"dataframe\">\n",
       "  <thead>\n",
       "    <tr style=\"text-align: right;\">\n",
       "      <th></th>\n",
       "      <th>number</th>\n",
       "    </tr>\n",
       "  </thead>\n",
       "  <tbody>\n",
       "    <tr>\n",
       "      <th>0</th>\n",
       "      <td>(210) 867 5309</td>\n",
       "    </tr>\n",
       "    <tr>\n",
       "      <th>1</th>\n",
       "      <td>+1 210.867.5309</td>\n",
       "    </tr>\n",
       "    <tr>\n",
       "      <th>2</th>\n",
       "      <td>867-5309</td>\n",
       "    </tr>\n",
       "    <tr>\n",
       "      <th>3</th>\n",
       "      <td>210-867-5309</td>\n",
       "    </tr>\n",
       "    <tr>\n",
       "      <th>4</th>\n",
       "      <td>2108675309</td>\n",
       "    </tr>\n",
       "  </tbody>\n",
       "</table>\n",
       "</div>"
      ],
      "text/plain": [
       "            number\n",
       "0   (210) 867 5309\n",
       "1  +1 210.867.5309\n",
       "2         867-5309\n",
       "3     210-867-5309\n",
       "4       2108675309"
      ]
     },
     "execution_count": 12,
     "metadata": {},
     "output_type": "execute_result"
    }
   ],
   "source": [
    "df = pd.DataFrame()\n",
    "df['number'] = [\n",
    "    '(210) 867 5309',\n",
    "    '+1 210.867.5309',\n",
    "    '867-5309',\n",
    "    '210-867-5309',\n",
    "    '2108675309',\n",
    "]\n",
    "df"
   ]
  },
  {
   "cell_type": "code",
   "execution_count": 13,
   "id": "ed3db634-3bad-483a-88b6-7ba294410a4c",
   "metadata": {},
   "outputs": [
    {
     "data": {
      "text/html": [
       "<div>\n",
       "<style scoped>\n",
       "    .dataframe tbody tr th:only-of-type {\n",
       "        vertical-align: middle;\n",
       "    }\n",
       "\n",
       "    .dataframe tbody tr th {\n",
       "        vertical-align: top;\n",
       "    }\n",
       "\n",
       "    .dataframe thead th {\n",
       "        text-align: right;\n",
       "    }\n",
       "</style>\n",
       "<table border=\"1\" class=\"dataframe\">\n",
       "  <thead>\n",
       "    <tr style=\"text-align: right;\">\n",
       "      <th></th>\n",
       "      <th>country_code</th>\n",
       "      <th>area_code</th>\n",
       "      <th>exchange_code</th>\n",
       "      <th>line_number</th>\n",
       "    </tr>\n",
       "  </thead>\n",
       "  <tbody>\n",
       "    <tr>\n",
       "      <th>0</th>\n",
       "      <td>NaN</td>\n",
       "      <td>210</td>\n",
       "      <td>867</td>\n",
       "      <td>5309</td>\n",
       "    </tr>\n",
       "    <tr>\n",
       "      <th>1</th>\n",
       "      <td>+1</td>\n",
       "      <td>210</td>\n",
       "      <td>867</td>\n",
       "      <td>5309</td>\n",
       "    </tr>\n",
       "    <tr>\n",
       "      <th>2</th>\n",
       "      <td>NaN</td>\n",
       "      <td>NaN</td>\n",
       "      <td>867</td>\n",
       "      <td>5309</td>\n",
       "    </tr>\n",
       "    <tr>\n",
       "      <th>3</th>\n",
       "      <td>NaN</td>\n",
       "      <td>210</td>\n",
       "      <td>867</td>\n",
       "      <td>5309</td>\n",
       "    </tr>\n",
       "    <tr>\n",
       "      <th>4</th>\n",
       "      <td>NaN</td>\n",
       "      <td>210</td>\n",
       "      <td>867</td>\n",
       "      <td>5309</td>\n",
       "    </tr>\n",
       "  </tbody>\n",
       "</table>\n",
       "</div>"
      ],
      "text/plain": [
       "  country_code area_code exchange_code line_number\n",
       "0          NaN       210           867        5309\n",
       "1           +1       210           867        5309\n",
       "2          NaN       NaN           867        5309\n",
       "3          NaN       210           867        5309\n",
       "4          NaN       210           867        5309"
      ]
     },
     "execution_count": 13,
     "metadata": {},
     "output_type": "execute_result"
    }
   ],
   "source": [
    "df.number.str.extract(phone_regex)"
   ]
  },
  {
   "cell_type": "markdown",
   "id": "523bb413-8a4e-4246-9ef6-47328b4bfcc7",
   "metadata": {},
   "source": [
    "# 4. \n",
    "- Use regular expressions to convert the dates below to the standardized year-month-day format."
   ]
  },
  {
   "cell_type": "markdown",
   "id": "834d4c8c-f3fd-48d8-8c4c-d7fb9cf04fe4",
   "metadata": {},
   "source": [
    "02/04/19\n",
    "02/05/19\n",
    "02/06/19\n",
    "02/07/19\n",
    "02/08/19\n",
    "02/09/19\n",
    "02/10/19"
   ]
  },
  {
   "cell_type": "code",
   "execution_count": 15,
   "id": "d9823e33-d9aa-438a-9ad3-3335c9aa7496",
   "metadata": {},
   "outputs": [
    {
     "data": {
      "text/plain": [
       "0    2019-02-04\n",
       "1    2019-02-05\n",
       "2    2019-02-06\n",
       "3    2019-02-07\n",
       "4    2019-02-08\n",
       "5    2019-02-09\n",
       "6    2019-02-10\n",
       "dtype: object"
      ]
     },
     "execution_count": 15,
     "metadata": {},
     "output_type": "execute_result"
    }
   ],
   "source": [
    "dates = pd.Series([\n",
    "    '02/04/19',\n",
    "    '02/05/19',\n",
    "    '02/06/19',\n",
    "    '02/07/19',\n",
    "    '02/08/19',\n",
    "    '02/09/19',\n",
    "    '02/10/19',\n",
    "])\n",
    "dates.str.replace(r'(\\d+)/(\\d+)/(\\d+)', r'20\\3-\\1-\\2', regex=True)"
   ]
  },
  {
   "cell_type": "markdown",
   "id": "d6cc8c58-64d0-49a8-ad98-be38b0bc1bb6",
   "metadata": {},
   "source": [
    "# 5. \n",
    "Write a regex to extract the various parts of these logfile lines:"
   ]
  },
  {
   "cell_type": "markdown",
   "id": "9d7498b0-640c-4823-ad3a-308ca7c6cc78",
   "metadata": {},
   "source": [
    "GET /api/v1/sales?page=86 [16/Apr/2019:193452+0000] HTTP/1.1 {200} 510348 \"python-requests/2.21.0\" 97.105.19.58\n",
    "POST /users_accounts/file-upload [16/Apr/2019:193452+0000] HTTP/1.1 {201} 42 \"User-Agent: Mozilla/5.0 (X11; Fedora; Fedora; Linux x86_64) AppleWebKit/537.36 (KHTML, like Gecko) Chrome/73.0.3683.86 Safari/537.36\" 97.105.19.58\n",
    "GET /api/v1/items?page=3 [16/Apr/2019:193453+0000] HTTP/1.1 {429} 3561 \"python-requests/2.21.0\" 97.105.19.58"
   ]
  },
  {
   "cell_type": "code",
   "execution_count": 17,
   "id": "87865a2a-620d-4b01-9bea-56b91dfc619b",
   "metadata": {},
   "outputs": [
    {
     "data": {
      "text/html": [
       "<div>\n",
       "<style scoped>\n",
       "    .dataframe tbody tr th:only-of-type {\n",
       "        vertical-align: middle;\n",
       "    }\n",
       "\n",
       "    .dataframe tbody tr th {\n",
       "        vertical-align: top;\n",
       "    }\n",
       "\n",
       "    .dataframe thead th {\n",
       "        text-align: right;\n",
       "    }\n",
       "</style>\n",
       "<table border=\"1\" class=\"dataframe\">\n",
       "  <thead>\n",
       "    <tr style=\"text-align: right;\">\n",
       "      <th></th>\n",
       "      <th>method</th>\n",
       "      <th>path</th>\n",
       "      <th>timestamp</th>\n",
       "      <th>http_version</th>\n",
       "      <th>status</th>\n",
       "      <th>bytes_sent</th>\n",
       "      <th>user_agent</th>\n",
       "    </tr>\n",
       "  </thead>\n",
       "  <tbody>\n",
       "    <tr>\n",
       "      <th>0</th>\n",
       "      <td>GET</td>\n",
       "      <td>/api/v1/sales?page=86</td>\n",
       "      <td>16/Apr/2019:193452+0000</td>\n",
       "      <td>HTTP/1.1</td>\n",
       "      <td>200</td>\n",
       "      <td>510348</td>\n",
       "      <td>python-requests/2.21.0\" 97.105.19.58</td>\n",
       "    </tr>\n",
       "    <tr>\n",
       "      <th>1</th>\n",
       "      <td>POST</td>\n",
       "      <td>/users_accounts/file-upload</td>\n",
       "      <td>16/Apr/2019:193452+0000</td>\n",
       "      <td>HTTP/1.1</td>\n",
       "      <td>201</td>\n",
       "      <td>42</td>\n",
       "      <td>User-Agent: Mozilla/5.0 (X11; Fedora; Fedora; ...</td>\n",
       "    </tr>\n",
       "    <tr>\n",
       "      <th>2</th>\n",
       "      <td>GET</td>\n",
       "      <td>/api/v1/items?page=3</td>\n",
       "      <td>16/Apr/2019:193453+0000</td>\n",
       "      <td>HTTP/1.1</td>\n",
       "      <td>429</td>\n",
       "      <td>3561</td>\n",
       "      <td>python-requests/2.21.0\" 97.105.19.58</td>\n",
       "    </tr>\n",
       "  </tbody>\n",
       "</table>\n",
       "</div>"
      ],
      "text/plain": [
       "  method                         path                timestamp http_version  \\\n",
       "0    GET        /api/v1/sales?page=86  16/Apr/2019:193452+0000     HTTP/1.1   \n",
       "1   POST  /users_accounts/file-upload  16/Apr/2019:193452+0000     HTTP/1.1   \n",
       "2    GET         /api/v1/items?page=3  16/Apr/2019:193453+0000     HTTP/1.1   \n",
       "\n",
       "  status bytes_sent                                         user_agent  \n",
       "0    200     510348               python-requests/2.21.0\" 97.105.19.58  \n",
       "1    201         42  User-Agent: Mozilla/5.0 (X11; Fedora; Fedora; ...  \n",
       "2    429       3561               python-requests/2.21.0\" 97.105.19.58  "
      ]
     },
     "execution_count": 17,
     "metadata": {},
     "output_type": "execute_result"
    }
   ],
   "source": [
    "logfile_re = r'''\n",
    "^(?P<method>GET|POST)\n",
    "\\s+\n",
    "(?P<path>.*?)\n",
    "\\s+\n",
    "\\[(?P<timestamp>.*?)\\]\n",
    "\\s+\n",
    "(?P<http_version>.*?)\n",
    "\\s+\n",
    "\\{(?P<status>\\d+)\\}\n",
    "\\s+\n",
    "(?P<bytes_sent>\\d+)\n",
    "\\s+\n",
    "\"(?P<user_agent>.*)$\n",
    "'''\n",
    "\n",
    "lines = pd.Series([\n",
    "    'GET /api/v1/sales?page=86 [16/Apr/2019:193452+0000] HTTP/1.1 {200} 510348 \"python-requests/2.21.0\" 97.105.19.58',\n",
    "    'POST /users_accounts/file-upload [16/Apr/2019:193452+0000] HTTP/1.1 {201} 42 \"User-Agent: Mozilla/5.0 (X11; Fedora; Fedora; Linux x86_64) AppleWebKit/537.36 (KHTML, like Gecko) Chrome/73.0.3683.86 Safari/537.36\" 97.105.19.58',\n",
    "    'GET /api/v1/items?page=3 [16/Apr/2019:193453+0000] HTTP/1.1 {429} 3561 \"python-requests/2.21.0\" 97.105.19.58',\n",
    "])\n",
    "lines.str.extract(logfile_re, re.VERBOSE)"
   ]
  },
  {
   "cell_type": "markdown",
   "id": "25a2edb9-b393-4b68-b93b-e97877583194",
   "metadata": {},
   "source": [
    "# BONUS\n",
    "\n",
    "Bonus Exercise\n",
    "\n",
    "You can find a list of words on your mac at /usr/share/dict/words. Use this file to answer the following questions:\n",
    "\n",
    "- How many words have at least 3 vowels?\n",
    "- How many words have at least 3 vowels in a row?\n",
    "- How many words have at least 4 consonants in a row?\n",
    "- How many words start and end with the same letter?\n",
    "- How many words start and end with a vowel?\n",
    "- How many words contain the same letter 3 times in a row?\n",
    "- What other interesting patterns in words can you find?"
   ]
  }
 ],
 "metadata": {
  "kernelspec": {
   "display_name": "Python 3 (ipykernel)",
   "language": "python",
   "name": "python3"
  },
  "language_info": {
   "codemirror_mode": {
    "name": "ipython",
    "version": 3
   },
   "file_extension": ".py",
   "mimetype": "text/x-python",
   "name": "python",
   "nbconvert_exporter": "python",
   "pygments_lexer": "ipython3",
   "version": "3.9.7"
  }
 },
 "nbformat": 4,
 "nbformat_minor": 5
}
